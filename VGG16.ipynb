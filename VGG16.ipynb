{
 "cells": [
  {
   "cell_type": "code",
   "execution_count": 26,
   "id": "1d0923fa-5b74-4615-b3c0-6bd77034c613",
   "metadata": {
    "scrolled": true
   },
   "outputs": [],
   "source": [
    "import tensorflow as tf\n",
    "from tensorflow.keras.layers import Conv2D, MaxPool2D, Flatten, Dense, Input, GlobalAveragePooling2D\n",
    "from tensorflow.keras.models import Model\n",
    "from keras.preprocessing.image import ImageDataGenerator"
   ]
  },
  {
   "cell_type": "code",
   "execution_count": 34,
   "id": "0c0dc97b-c47e-45f9-bbd5-72641ea2de4a",
   "metadata": {},
   "outputs": [],
   "source": [
    "def model(x):\n",
    "    # Block 1\n",
    "    x = Conv2D(\n",
    "        filters=64,\n",
    "        kernel_size=3,\n",
    "        strides=(1, 1),\n",
    "        activation=\"relu\"\n",
    "    )(x)\n",
    "    x = Conv2D(\n",
    "        filters=64,\n",
    "        kernel_size=3,\n",
    "        strides=(1, 1),\n",
    "        activation=\"relu\"\n",
    "    )(x)\n",
    "    x = MaxPool2D(\n",
    "        pool_size=(2, 2),\n",
    "        strides=2,\n",
    "        padding=\"same\"\n",
    "    )(x)\n",
    "\n",
    "    # Block 2\n",
    "    x = Conv2D(\n",
    "        filters=128,\n",
    "        kernel_size=3,\n",
    "        strides=(1, 1),\n",
    "        activation=\"relu\"\n",
    "    )(x)\n",
    "    x = Conv2D(\n",
    "        filters=128,\n",
    "        kernel_size=3,\n",
    "        strides=(1, 1),\n",
    "        activation=\"relu\"\n",
    "    )(x)\n",
    "    x = MaxPool2D(\n",
    "        pool_size=(2, 2),\n",
    "        strides=2,\n",
    "        padding=\"same\"\n",
    "    )(x)\n",
    "\n",
    "    # Block 3\n",
    "    x = Conv2D(\n",
    "        filters=256,\n",
    "        kernel_size=3,\n",
    "        strides=(1, 1),\n",
    "        activation=\"relu\"\n",
    "    )(x)\n",
    "    x = Conv2D(\n",
    "        filters=256,\n",
    "        kernel_size=3,\n",
    "        strides=(1, 1),\n",
    "        activation=\"relu\"\n",
    "    )(x)\n",
    "    x = Conv2D(\n",
    "        filters=256,\n",
    "        kernel_size=3,\n",
    "        strides=(1, 1),\n",
    "        activation=\"relu\"\n",
    "    )(x)\n",
    "    x = MaxPool2D(\n",
    "        pool_size=(2, 2),\n",
    "        strides=2,\n",
    "        padding=\"same\"\n",
    "    )(x)\n",
    "\n",
    "    # Block 4\n",
    "    x = Conv2D(\n",
    "        filters=512,\n",
    "        kernel_size=3,\n",
    "        strides=(1, 1),\n",
    "        activation=\"relu\"\n",
    "    )(x)\n",
    "    x = Conv2D(\n",
    "        filters=512,\n",
    "        kernel_size=3,\n",
    "        strides=(1, 1),\n",
    "        activation=\"relu\"\n",
    "    )(x)\n",
    "    x = Conv2D(\n",
    "        filters=512,\n",
    "        kernel_size=3,\n",
    "        strides=(1, 1),\n",
    "        activation=\"relu\"\n",
    "    )(x)\n",
    "    x = MaxPool2D(\n",
    "        pool_size=(2, 2),\n",
    "        strides=2,\n",
    "        padding=\"same\"\n",
    "    )(x)\n",
    "\n",
    "    # Block 5\n",
    "    x = Conv2D(\n",
    "        filters=512,\n",
    "        kernel_size=3,\n",
    "        strides=(1, 1),\n",
    "        activation=\"relu\"\n",
    "    )(x)\n",
    "    x = Conv2D(\n",
    "        filters=512,\n",
    "        kernel_size=3,\n",
    "        strides=(1, 1),\n",
    "        activation=\"relu\"\n",
    "    )(x)\n",
    "    x = Conv2D(\n",
    "        filters=512,\n",
    "        kernel_size=3,\n",
    "        strides=(1, 1),\n",
    "        activation=\"relu\"\n",
    "    )(x)\n",
    "    x = MaxPool2D(\n",
    "        pool_size=(2, 2),\n",
    "        strides=2,\n",
    "        padding=\"same\"\n",
    "    )(x)\n",
    "\n",
    "    # Fully connected layers\n",
    "    x = GlobalAveragePooling2D()(x)\n",
    "    x = Dense(\n",
    "        units=512,\n",
    "        activation=\"relu\",\n",
    "    )(x)\n",
    "    x = Dense(\n",
    "        units=256,\n",
    "        activation=\"relu\",\n",
    "    )(x)\n",
    "    x = Dense(\n",
    "        units=3,\n",
    "        activation=\"softmax\",\n",
    "    )(x)\n",
    "    return x"
   ]
  },
  {
   "cell_type": "code",
   "execution_count": 35,
   "id": "834d6ea4-1e1b-41f9-a02f-8ae86c98b36c",
   "metadata": {},
   "outputs": [],
   "source": [
    "def train_datagen(path):\n",
    "    datagen = ImageDataGenerator(\n",
    "        rescale=1./255,\n",
    "        shear_range=0.2,\n",
    "        zoom_range=0.2,\n",
    "        horizontal_flip=True\n",
    "    )\n",
    "\n",
    "    train = datagen.flow_from_directory(\n",
    "        directory=path,\n",
    "        batch_size=32,\n",
    "        target_size=(224, 224),\n",
    "        class_mode=\"categorical\"\n",
    "    )\n",
    "    return train"
   ]
  },
  {
   "cell_type": "code",
   "execution_count": 36,
   "id": "e3521ba6-f153-45b4-9525-d7bc8a52c2d3",
   "metadata": {},
   "outputs": [],
   "source": [
    "def test_datagen(path):\n",
    "    datagen = ImageDataGenerator(\n",
    "        rescale=1./255\n",
    "    )\n",
    "\n",
    "    test = datagen.flow_from_directory(\n",
    "        directory=path,\n",
    "        batch_size=32,\n",
    "        target_size=(224, 224),\n",
    "        class_mode=\"categorical\"\n",
    "    )\n",
    "    return test"
   ]
  },
  {
   "cell_type": "code",
   "execution_count": 37,
   "id": "9a136e41-8da7-486a-88a3-631d0bf7605f",
   "metadata": {},
   "outputs": [
    {
     "name": "stdout",
     "output_type": "stream",
     "text": [
      "Found 2942 images belonging to 3 classes.\n"
     ]
    }
   ],
   "source": [
    "train = train_datagen(r\"E:\\archive\\data\\train\")"
   ]
  },
  {
   "cell_type": "code",
   "execution_count": 38,
   "id": "72858818-325e-4d53-aae2-0cb35d0f86b7",
   "metadata": {},
   "outputs": [
    {
     "name": "stdout",
     "output_type": "stream",
     "text": [
      "Found 737 images belonging to 3 classes.\n"
     ]
    }
   ],
   "source": [
    "test = test_datagen(r\"E:\\archive\\data\\val\")"
   ]
  },
  {
   "cell_type": "code",
   "execution_count": 39,
   "id": "79c857de-6533-4b3c-aa6d-2d0efc66c059",
   "metadata": {},
   "outputs": [],
   "source": [
    "input1s = Input(shape=(224, 224, 3))\n",
    "output1 = model(input1s)\n",
    "vgg16 = Model(inputs=input1s, outputs=output1)"
   ]
  },
  {
   "cell_type": "code",
   "execution_count": 40,
   "id": "f5ad5ccc-f263-4862-b727-7f49783e5526",
   "metadata": {},
   "outputs": [
    {
     "name": "stdout",
     "output_type": "stream",
     "text": [
      "Model: \"model_1\"\n",
      "_________________________________________________________________\n",
      " Layer (type)                Output Shape              Param #   \n",
      "=================================================================\n",
      " input_4 (InputLayer)        [(None, 224, 224, 3)]     0         \n",
      "                                                                 \n",
      " conv2d_39 (Conv2D)          (None, 222, 222, 64)      1792      \n",
      "                                                                 \n",
      " conv2d_40 (Conv2D)          (None, 220, 220, 64)      36928     \n",
      "                                                                 \n",
      " max_pooling2d_15 (MaxPooli  (None, 110, 110, 64)      0         \n",
      " ng2D)                                                           \n",
      "                                                                 \n",
      " conv2d_41 (Conv2D)          (None, 108, 108, 128)     73856     \n",
      "                                                                 \n",
      " conv2d_42 (Conv2D)          (None, 106, 106, 128)     147584    \n",
      "                                                                 \n",
      " max_pooling2d_16 (MaxPooli  (None, 53, 53, 128)       0         \n",
      " ng2D)                                                           \n",
      "                                                                 \n",
      " conv2d_43 (Conv2D)          (None, 51, 51, 256)       295168    \n",
      "                                                                 \n",
      " conv2d_44 (Conv2D)          (None, 49, 49, 256)       590080    \n",
      "                                                                 \n",
      " conv2d_45 (Conv2D)          (None, 47, 47, 256)       590080    \n",
      "                                                                 \n",
      " max_pooling2d_17 (MaxPooli  (None, 24, 24, 256)       0         \n",
      " ng2D)                                                           \n",
      "                                                                 \n",
      " conv2d_46 (Conv2D)          (None, 22, 22, 512)       1180160   \n",
      "                                                                 \n",
      " conv2d_47 (Conv2D)          (None, 20, 20, 512)       2359808   \n",
      "                                                                 \n",
      " conv2d_48 (Conv2D)          (None, 18, 18, 512)       2359808   \n",
      "                                                                 \n",
      " max_pooling2d_18 (MaxPooli  (None, 9, 9, 512)         0         \n",
      " ng2D)                                                           \n",
      "                                                                 \n",
      " conv2d_49 (Conv2D)          (None, 7, 7, 512)         2359808   \n",
      "                                                                 \n",
      " conv2d_50 (Conv2D)          (None, 5, 5, 512)         2359808   \n",
      "                                                                 \n",
      " conv2d_51 (Conv2D)          (None, 3, 3, 512)         2359808   \n",
      "                                                                 \n",
      " max_pooling2d_19 (MaxPooli  (None, 2, 2, 512)         0         \n",
      " ng2D)                                                           \n",
      "                                                                 \n",
      " global_average_pooling2d_1  (None, 512)               0         \n",
      "  (GlobalAveragePooling2D)                                       \n",
      "                                                                 \n",
      " dense_5 (Dense)             (None, 512)               262656    \n",
      "                                                                 \n",
      " dense_6 (Dense)             (None, 256)               131328    \n",
      "                                                                 \n",
      " dense_7 (Dense)             (None, 3)                 771       \n",
      "                                                                 \n",
      "=================================================================\n",
      "Total params: 15109443 (57.64 MB)\n",
      "Trainable params: 15109443 (57.64 MB)\n",
      "Non-trainable params: 0 (0.00 Byte)\n",
      "_________________________________________________________________\n"
     ]
    }
   ],
   "source": [
    "vgg16.summary()"
   ]
  },
  {
   "cell_type": "code",
   "execution_count": 42,
   "id": "1842684e-fe6f-4931-9676-b1c88359742e",
   "metadata": {},
   "outputs": [
    {
     "name": "stdout",
     "output_type": "stream",
     "text": [
      "WARNING:tensorflow:From C:\\Users\\tharu\\Lib\\site-packages\\keras\\src\\optimizers\\__init__.py:309: The name tf.train.Optimizer is deprecated. Please use tf.compat.v1.train.Optimizer instead.\n",
      "\n"
     ]
    }
   ],
   "source": [
    "vgg16.compile(\n",
    "    optimizer='rmsprop',\n",
    "    loss=\"categorical_crossentropy\",\n",
    "    metrics=[\"accuracy\"],\n",
    ")"
   ]
  },
  {
   "cell_type": "code",
   "execution_count": null,
   "id": "676c79e3-892a-4169-a31f-e01202dfe953",
   "metadata": {},
   "outputs": [
    {
     "name": "stdout",
     "output_type": "stream",
     "text": [
      "Epoch 1/10\n",
      "WARNING:tensorflow:From C:\\Users\\tharu\\Lib\\site-packages\\keras\\src\\utils\\tf_utils.py:492: The name tf.ragged.RaggedTensorValue is deprecated. Please use tf.compat.v1.ragged.RaggedTensorValue instead.\n",
      "\n",
      "WARNING:tensorflow:From C:\\Users\\tharu\\Lib\\site-packages\\keras\\src\\engine\\base_layer_utils.py:384: The name tf.executing_eagerly_outside_functions is deprecated. Please use tf.compat.v1.executing_eagerly_outside_functions instead.\n",
      "\n",
      "15/92 [===>..........................] - ETA: 22:07 - loss: 1.1004 - accuracy: 0.3326"
     ]
    }
   ],
   "source": [
    "vgg16.fit(\n",
    "    x=train,\n",
    "    batch_size=32,\n",
    "    epochs=10,\n",
    "    validation_data=test\n",
    ")"
   ]
  }
 ],
 "metadata": {
  "kernelspec": {
   "display_name": "Python 3 (ipykernel)",
   "language": "python",
   "name": "python3"
  },
  "language_info": {
   "codemirror_mode": {
    "name": "ipython",
    "version": 3
   },
   "file_extension": ".py",
   "mimetype": "text/x-python",
   "name": "python",
   "nbconvert_exporter": "python",
   "pygments_lexer": "ipython3",
   "version": "3.11.4"
  }
 },
 "nbformat": 4,
 "nbformat_minor": 5
}
