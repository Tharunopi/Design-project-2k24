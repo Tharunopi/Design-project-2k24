{
 "cells": [
  {
   "cell_type": "code",
   "execution_count": 12,
   "id": "d951badb-7703-44d0-adfa-6ecb45a8bce7",
   "metadata": {},
   "outputs": [],
   "source": [
    "import tensorflow as tf\n",
    "from tensorflow import keras\n",
    "from tensorflow.keras.layers import Conv2D, DepthwiseConv2D, Flatten, MaxPool2D, GlobalAveragePooling2D, BatchNormalization, ReLU, Dense, Input\n",
    "from tensorflow.keras.models import Model\n",
    "import numpy as np\n",
    "from keras.preprocessing.image import ImageDataGenerator\n",
    "from keras.preprocessing import image\n",
    "from tensorflow.keras.utils import get_custom_objects"
   ]
  },
  {
   "cell_type": "code",
   "execution_count": 6,
   "id": "e99fbe1f-0195-4fd6-bbde-b4aea62fc119",
   "metadata": {},
   "outputs": [],
   "source": [
    "def train_dg(path):\n",
    "\n",
    "    train = ImageDataGenerator(\n",
    "    shear_range=0.2,\n",
    "    zoom_range=0.2,\n",
    "    vertical_flip=True,\n",
    "    rescale=1./255,\n",
    "    )\n",
    "\n",
    "    train = train.flow_from_directory(\n",
    "    directory=path,\n",
    "    batch_size=32,\n",
    "    target_size=(224, 224),\n",
    "    class_mode=\"categorical\"\n",
    "    )\n",
    "    return train"
   ]
  },
  {
   "cell_type": "code",
   "execution_count": 7,
   "id": "8ff38dbf-bd0f-4933-8ee1-717a7df42606",
   "metadata": {},
   "outputs": [],
   "source": [
    "def val_dg(path):\n",
    "\n",
    "    test = ImageDataGenerator(\n",
    "        rescale=1./255\n",
    "    )\n",
    "\n",
    "    test = test.flow_from_directory(\n",
    "    directory=path,\n",
    "    batch_size=32,\n",
    "    target_size=(224, 224),\n",
    "    class_mode=\"categorical\"\n",
    "    )\n",
    "    return test"
   ]
  },
  {
   "cell_type": "code",
   "execution_count": 8,
   "id": "9f201445-a437-443d-95c3-147c0f2caa3d",
   "metadata": {},
   "outputs": [
    {
     "name": "stdout",
     "output_type": "stream",
     "text": [
      "Found 2942 images belonging to 3 classes.\n"
     ]
    }
   ],
   "source": [
    "train_datagen = train_dg(r\"E:\\archive\\data\\train\")"
   ]
  },
  {
   "cell_type": "code",
   "execution_count": 9,
   "id": "de945059-408e-4f7b-bf7e-3945bb6900b9",
   "metadata": {},
   "outputs": [
    {
     "name": "stdout",
     "output_type": "stream",
     "text": [
      "Found 737 images belonging to 3 classes.\n"
     ]
    }
   ],
   "source": [
    "test_datagen = val_dg(r\"E:\\archive\\data\\val\")"
   ]
  },
  {
   "cell_type": "code",
   "execution_count": null,
   "id": "a5cab754-d9e6-44c1-81cb-4ae662a9063e",
   "metadata": {},
   "outputs": [],
   "source": [
    "print(train_datagen.class_indices)"
   ]
  },
  {
   "cell_type": "code",
   "execution_count": null,
   "id": "726bf014-e79b-428e-a0d0-80fa83686531",
   "metadata": {},
   "outputs": [],
   "source": [
    "def conv(x, filters, kernel_size, strides):\n",
    "    x = Conv2D( filters = filters, kernel_size = kernel_size, strides= strides, padding='same', activation=\"relu\", use_bias=False)(x)\n",
    "    x = BatchNormalization()(x)\n",
    "    x = ReLU()(x)\n",
    "    return x\n",
    "\n",
    "def depv(x, filters, kernel_size, strides):\n",
    "    x = DepthwiseConv2D(kernel_size=kernel_size, strides=strides,  padding='same',use_bias=False)(x)\n",
    "    x = BatchNormalization()(x)\n",
    "    x = ReLU()(x)\n",
    "    x = Conv2D(filters = filters, kernel_size = (1, 1), strides= 1, padding='same', activation=\"relu\", use_bias=False)(x)\n",
    "    x = BatchNormalization()(x)\n",
    "    x = ReLU()(x)\n",
    "    return x"
   ]
  },
  {
   "cell_type": "code",
   "execution_count": null,
   "id": "4a9a35e6-23f7-401c-b93e-9b92d5257638",
   "metadata": {},
   "outputs": [],
   "source": [
    "def model(x):\n",
    "    x = conv(x, 32, 3, 2)\n",
    "    x = depv(x, 64, 3, 1)\n",
    "    x = depv(x, 128, 3, 2)\n",
    "    x = depv(x, 128, 3, 1)\n",
    "    x = depv(x, 256, 3, 2)\n",
    "    x = depv(x, 256, 3, 1)\n",
    "    x = depv(x, 512, 3, 2)\n",
    "    for i in range(5):\n",
    "        x = depv(x, 512, 3, 1)\n",
    "    x = depv(x, 1024, 3, 2)\n",
    "    x = depv(x, 1024, 3, 2)\n",
    "    # x = Flatten()(x)\n",
    "    x = GlobalAveragePooling2D()(x)\n",
    "    x = Dense(units=1024, activation=\"relu\")(x)\n",
    "    x = Dense(units=3, activation=\"softmax\", use_bias=False)(x)\n",
    "    return x"
   ]
  },
  {
   "cell_type": "code",
   "execution_count": null,
   "id": "1a9f3f04-007f-483f-9d8a-a747446ed6b1",
   "metadata": {},
   "outputs": [],
   "source": [
    "input = Input(shape=(224, 224, 3))\n",
    "output = model(input)\n",
    "cnn = Model(inputs=input, outputs=output)"
   ]
  },
  {
   "cell_type": "code",
   "execution_count": null,
   "id": "7a5c4571-5289-43ec-b0c8-132f8e56007d",
   "metadata": {
    "scrolled": true
   },
   "outputs": [],
   "source": [
    "cnn.summary()"
   ]
  },
  {
   "cell_type": "code",
   "execution_count": null,
   "id": "d82ba04c-e593-4ec5-b2e9-8f3954aa24aa",
   "metadata": {},
   "outputs": [],
   "source": [
    "cnn.compile(loss=\"categorical_crossentropy\", optimizer=\"adam\", metrics=[\"accuracy\"])"
   ]
  },
  {
   "cell_type": "code",
   "execution_count": null,
   "id": "11d9758a-b707-4407-a1c2-61f108bf4a9a",
   "metadata": {},
   "outputs": [],
   "source": [
    "callback = tf.keras.callbacks.EarlyStopping(monitor=\"accuracy\", patience=3)"
   ]
  },
  {
   "cell_type": "code",
   "execution_count": 12,
   "id": "b87b52a9-b977-449b-b7dd-020f75f023df",
   "metadata": {},
   "outputs": [
    {
     "name": "stdout",
     "output_type": "stream",
     "text": [
      "Epoch 1/30\n",
      "WARNING:tensorflow:From C:\\Users\\tharu\\Lib\\site-packages\\keras\\src\\utils\\tf_utils.py:492: The name tf.ragged.RaggedTensorValue is deprecated. Please use tf.compat.v1.ragged.RaggedTensorValue instead.\n",
      "\n",
      "WARNING:tensorflow:From C:\\Users\\tharu\\Lib\\site-packages\\keras\\src\\engine\\base_layer_utils.py:384: The name tf.executing_eagerly_outside_functions is deprecated. Please use tf.compat.v1.executing_eagerly_outside_functions instead.\n",
      "\n",
      "92/92 [==============================] - 250s 3s/step - loss: 0.6431 - accuracy: 0.7175 - val_loss: 1.1008 - val_accuracy: 0.3148\n",
      "Epoch 2/30\n",
      "92/92 [==============================] - 205s 2s/step - loss: 0.4351 - accuracy: 0.8253 - val_loss: 1.0991 - val_accuracy: 0.3148\n",
      "Epoch 3/30\n",
      "92/92 [==============================] - 200s 2s/step - loss: 0.3455 - accuracy: 0.8712 - val_loss: 1.0996 - val_accuracy: 0.3148\n",
      "Epoch 4/30\n",
      "92/92 [==============================] - 230s 3s/step - loss: 0.2671 - accuracy: 0.9062 - val_loss: 1.1715 - val_accuracy: 0.3066\n",
      "Epoch 5/30\n",
      "92/92 [==============================] - 220s 2s/step - loss: 0.2445 - accuracy: 0.9092 - val_loss: 2.1846 - val_accuracy: 0.3066\n",
      "Epoch 6/30\n",
      "92/92 [==============================] - 234s 3s/step - loss: 0.2273 - accuracy: 0.9283 - val_loss: 2.2198 - val_accuracy: 0.3066\n",
      "Epoch 7/30\n",
      "92/92 [==============================] - 256s 3s/step - loss: 0.2053 - accuracy: 0.9290 - val_loss: 0.5183 - val_accuracy: 0.7693\n",
      "Epoch 8/30\n",
      "92/92 [==============================] - 223s 2s/step - loss: 0.1848 - accuracy: 0.9371 - val_loss: 0.4049 - val_accuracy: 0.8616\n",
      "Epoch 9/30\n",
      "92/92 [==============================] - 198s 2s/step - loss: 0.1380 - accuracy: 0.9504 - val_loss: 0.1059 - val_accuracy: 0.9607\n",
      "Epoch 10/30\n",
      "92/92 [==============================] - 180s 2s/step - loss: 0.2681 - accuracy: 0.9167 - val_loss: 341.7425 - val_accuracy: 0.5590\n",
      "Epoch 11/30\n",
      "92/92 [==============================] - 175s 2s/step - loss: 0.1899 - accuracy: 0.9324 - val_loss: 0.3801 - val_accuracy: 0.9199\n",
      "Epoch 12/30\n",
      "92/92 [==============================] - 189s 2s/step - loss: 0.1720 - accuracy: 0.9392 - val_loss: 0.1827 - val_accuracy: 0.9498\n"
     ]
    },
    {
     "data": {
      "text/plain": [
       "<keras.src.callbacks.History at 0x1bbe5e48b50>"
      ]
     },
     "execution_count": 12,
     "metadata": {},
     "output_type": "execute_result"
    }
   ],
   "source": [
    "cnn.fit(x=train_datagen, validation_data=test_datagen, epochs=30, batch_size=32, callbacks=[callback])"
   ]
  },
  {
   "cell_type": "code",
   "execution_count": 13,
   "id": "3ce8c21a-3dc1-4901-abd4-f3947547e129",
   "metadata": {},
   "outputs": [
    {
     "name": "stderr",
     "output_type": "stream",
     "text": [
      "C:\\Users\\tharu\\Lib\\site-packages\\keras\\src\\engine\\training.py:3103: UserWarning: You are saving your model as an HDF5 file via `model.save()`. This file format is considered legacy. We recommend using instead the native Keras format, e.g. `model.save('my_model.keras')`.\n",
      "  saving_api.save_model(\n"
     ]
    }
   ],
   "source": [
    "cnn.save(\"mobilenet.h5\")"
   ]
  },
  {
   "cell_type": "code",
   "execution_count": 13,
   "id": "4414186c-3dd1-44ae-a339-22e45832dd0c",
   "metadata": {},
   "outputs": [
    {
     "ename": "TypeError",
     "evalue": "Error when deserializing class 'Conv2D' using config={'name': 'conv2d', 'trainable': True, 'dtype': 'float32', 'filters': 32, 'kernel_size': [3, 3], 'strides': [2, 2], 'padding': 'same', 'data_format': 'channels_last', 'dilation_rate': [1, 1], 'groups': 1, 'activation': 'relu', 'use_bias': False, 'kernel_initializer': {'module': 'keras.initializers', 'class_name': 'GlorotUniform', 'config': {'seed': None}, 'registered_name': None}, 'bias_initializer': {'module': 'keras.initializers', 'class_name': 'Zeros', 'config': {}, 'registered_name': None}, 'kernel_regularizer': None, 'bias_regularizer': None, 'activity_regularizer': None, 'kernel_constraint': None, 'bias_constraint': None}.\n\nException encountered: module 'keras.src.backend' has no attribute 'RandomGenerator'",
     "output_type": "error",
     "traceback": [
      "\u001b[1;31m---------------------------------------------------------------------------\u001b[0m",
      "\u001b[1;31mTypeError\u001b[0m                                 Traceback (most recent call last)",
      "Cell \u001b[1;32mIn[13], line 1\u001b[0m\n\u001b[1;32m----> 1\u001b[0m model \u001b[38;5;241m=\u001b[39m \u001b[43mtf\u001b[49m\u001b[38;5;241;43m.\u001b[39;49m\u001b[43mkeras\u001b[49m\u001b[38;5;241;43m.\u001b[39;49m\u001b[43mmodels\u001b[49m\u001b[38;5;241;43m.\u001b[39;49m\u001b[43mload_model\u001b[49m\u001b[43m(\u001b[49m\u001b[38;5;124;43m'\u001b[39;49m\u001b[38;5;124;43mmobilenet.h5\u001b[39;49m\u001b[38;5;124;43m'\u001b[39;49m\u001b[43m,\u001b[49m\u001b[43m \u001b[49m\u001b[43mcustom_objects\u001b[49m\u001b[38;5;241;43m=\u001b[39;49m\u001b[43mget_custom_objects\u001b[49m\u001b[43m(\u001b[49m\u001b[43m)\u001b[49m\u001b[43m)\u001b[49m\n",
      "File \u001b[1;32m~\\Lib\\site-packages\\keras\\src\\saving\\saving_api.py:262\u001b[0m, in \u001b[0;36mload_model\u001b[1;34m(filepath, custom_objects, compile, safe_mode, **kwargs)\u001b[0m\n\u001b[0;32m    254\u001b[0m     \u001b[38;5;28;01mreturn\u001b[39;00m saving_lib\u001b[38;5;241m.\u001b[39mload_model(\n\u001b[0;32m    255\u001b[0m         filepath,\n\u001b[0;32m    256\u001b[0m         custom_objects\u001b[38;5;241m=\u001b[39mcustom_objects,\n\u001b[0;32m    257\u001b[0m         \u001b[38;5;28mcompile\u001b[39m\u001b[38;5;241m=\u001b[39m\u001b[38;5;28mcompile\u001b[39m,\n\u001b[0;32m    258\u001b[0m         safe_mode\u001b[38;5;241m=\u001b[39msafe_mode,\n\u001b[0;32m    259\u001b[0m     )\n\u001b[0;32m    261\u001b[0m \u001b[38;5;66;03m# Legacy case.\u001b[39;00m\n\u001b[1;32m--> 262\u001b[0m \u001b[38;5;28;01mreturn\u001b[39;00m \u001b[43mlegacy_sm_saving_lib\u001b[49m\u001b[38;5;241;43m.\u001b[39;49m\u001b[43mload_model\u001b[49m\u001b[43m(\u001b[49m\n\u001b[0;32m    263\u001b[0m \u001b[43m    \u001b[49m\u001b[43mfilepath\u001b[49m\u001b[43m,\u001b[49m\u001b[43m \u001b[49m\u001b[43mcustom_objects\u001b[49m\u001b[38;5;241;43m=\u001b[39;49m\u001b[43mcustom_objects\u001b[49m\u001b[43m,\u001b[49m\u001b[43m \u001b[49m\u001b[38;5;28;43mcompile\u001b[39;49m\u001b[38;5;241;43m=\u001b[39;49m\u001b[38;5;28;43mcompile\u001b[39;49m\u001b[43m,\u001b[49m\u001b[43m \u001b[49m\u001b[38;5;241;43m*\u001b[39;49m\u001b[38;5;241;43m*\u001b[39;49m\u001b[43mkwargs\u001b[49m\n\u001b[0;32m    264\u001b[0m \u001b[43m\u001b[49m\u001b[43m)\u001b[49m\n",
      "File \u001b[1;32m~\\Lib\\site-packages\\keras\\src\\utils\\traceback_utils.py:70\u001b[0m, in \u001b[0;36mfilter_traceback.<locals>.error_handler\u001b[1;34m(*args, **kwargs)\u001b[0m\n\u001b[0;32m     67\u001b[0m     filtered_tb \u001b[38;5;241m=\u001b[39m _process_traceback_frames(e\u001b[38;5;241m.\u001b[39m__traceback__)\n\u001b[0;32m     68\u001b[0m     \u001b[38;5;66;03m# To get the full stack trace, call:\u001b[39;00m\n\u001b[0;32m     69\u001b[0m     \u001b[38;5;66;03m# `tf.debugging.disable_traceback_filtering()`\u001b[39;00m\n\u001b[1;32m---> 70\u001b[0m     \u001b[38;5;28;01mraise\u001b[39;00m e\u001b[38;5;241m.\u001b[39mwith_traceback(filtered_tb) \u001b[38;5;28;01mfrom\u001b[39;00m \u001b[38;5;28;01mNone\u001b[39;00m\n\u001b[0;32m     71\u001b[0m \u001b[38;5;28;01mfinally\u001b[39;00m:\n\u001b[0;32m     72\u001b[0m     \u001b[38;5;28;01mdel\u001b[39;00m filtered_tb\n",
      "File \u001b[1;32m~\\Lib\\site-packages\\keras\\src\\engine\\base_layer.py:870\u001b[0m, in \u001b[0;36mLayer.from_config\u001b[1;34m(cls, config)\u001b[0m\n\u001b[0;32m    868\u001b[0m     \u001b[38;5;28;01mreturn\u001b[39;00m \u001b[38;5;28mcls\u001b[39m(\u001b[38;5;241m*\u001b[39m\u001b[38;5;241m*\u001b[39mconfig)\n\u001b[0;32m    869\u001b[0m \u001b[38;5;28;01mexcept\u001b[39;00m \u001b[38;5;167;01mException\u001b[39;00m \u001b[38;5;28;01mas\u001b[39;00m e:\n\u001b[1;32m--> 870\u001b[0m     \u001b[38;5;28;01mraise\u001b[39;00m \u001b[38;5;167;01mTypeError\u001b[39;00m(\n\u001b[0;32m    871\u001b[0m         \u001b[38;5;124mf\u001b[39m\u001b[38;5;124m\"\u001b[39m\u001b[38;5;124mError when deserializing class \u001b[39m\u001b[38;5;124m'\u001b[39m\u001b[38;5;132;01m{\u001b[39;00m\u001b[38;5;28mcls\u001b[39m\u001b[38;5;241m.\u001b[39m\u001b[38;5;18m__name__\u001b[39m\u001b[38;5;132;01m}\u001b[39;00m\u001b[38;5;124m'\u001b[39m\u001b[38;5;124m using \u001b[39m\u001b[38;5;124m\"\u001b[39m\n\u001b[0;32m    872\u001b[0m         \u001b[38;5;124mf\u001b[39m\u001b[38;5;124m\"\u001b[39m\u001b[38;5;124mconfig=\u001b[39m\u001b[38;5;132;01m{\u001b[39;00mconfig\u001b[38;5;132;01m}\u001b[39;00m\u001b[38;5;124m.\u001b[39m\u001b[38;5;130;01m\\n\u001b[39;00m\u001b[38;5;130;01m\\n\u001b[39;00m\u001b[38;5;124mException encountered: \u001b[39m\u001b[38;5;132;01m{\u001b[39;00me\u001b[38;5;132;01m}\u001b[39;00m\u001b[38;5;124m\"\u001b[39m\n\u001b[0;32m    873\u001b[0m     )\n",
      "\u001b[1;31mTypeError\u001b[0m: Error when deserializing class 'Conv2D' using config={'name': 'conv2d', 'trainable': True, 'dtype': 'float32', 'filters': 32, 'kernel_size': [3, 3], 'strides': [2, 2], 'padding': 'same', 'data_format': 'channels_last', 'dilation_rate': [1, 1], 'groups': 1, 'activation': 'relu', 'use_bias': False, 'kernel_initializer': {'module': 'keras.initializers', 'class_name': 'GlorotUniform', 'config': {'seed': None}, 'registered_name': None}, 'bias_initializer': {'module': 'keras.initializers', 'class_name': 'Zeros', 'config': {}, 'registered_name': None}, 'kernel_regularizer': None, 'bias_regularizer': None, 'activity_regularizer': None, 'kernel_constraint': None, 'bias_constraint': None}.\n\nException encountered: module 'keras.src.backend' has no attribute 'RandomGenerator'"
     ]
    }
   ],
   "source": [
    "model = tf.keras.models.load_model('mobilenet.h5', custom_objects=get_custom_objects())"
   ]
  },
  {
   "cell_type": "code",
   "execution_count": 13,
   "id": "1eae88c2-0f2a-4fbd-954b-462a306fe857",
   "metadata": {},
   "outputs": [
    {
     "name": "stdout",
     "output_type": "stream",
     "text": [
      "(1, 224, 224, 3)\n",
      "1/1 [==============================] - 1s 528ms/step\n",
      "[[0. 1. 0.]]\n"
     ]
    }
   ],
   "source": [
    "test_image =image.load_img(r\"E:\\wheat disease\\data\\val\\Healthy\\Healthy057.jpg\", target_size = (224, 224))\n",
    "test_image = image.img_to_array(test_image)\n",
    "test_image = np.expand_dims(test_image, axis = 0)\n",
    "print(test_image.shape)\n",
    "result = model.predict(test_image)\n",
    "print(result)"
   ]
  },
  {
   "cell_type": "code",
   "execution_count": 14,
   "id": "b90be06f-c685-4af5-9b74-bc6d82bd9955",
   "metadata": {
    "scrolled": true
   },
   "outputs": [
    {
     "name": "stdout",
     "output_type": "stream",
     "text": [
      "{'Brown_rust': 0, 'Healthy': 1, 'Yellow_rust': 2}\n"
     ]
    }
   ],
   "source": [
    "print(test_datagen.class_indices)"
   ]
  },
  {
   "cell_type": "code",
   "execution_count": null,
   "id": "74742f23-f9d4-48f1-abc9-12bfe74be34f",
   "metadata": {},
   "outputs": [],
   "source": []
  }
 ],
 "metadata": {
  "kernelspec": {
   "display_name": "Python 3 (ipykernel)",
   "language": "python",
   "name": "python3"
  },
  "language_info": {
   "codemirror_mode": {
    "name": "ipython",
    "version": 3
   },
   "file_extension": ".py",
   "mimetype": "text/x-python",
   "name": "python",
   "nbconvert_exporter": "python",
   "pygments_lexer": "ipython3",
   "version": "3.11.4"
  }
 },
 "nbformat": 4,
 "nbformat_minor": 5
}
