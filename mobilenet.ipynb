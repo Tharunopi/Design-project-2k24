{
 "cells": [
  {
   "cell_type": "code",
   "execution_count": 1,
   "id": "d951badb-7703-44d0-adfa-6ecb45a8bce7",
   "metadata": {},
   "outputs": [
    {
     "name": "stdout",
     "output_type": "stream",
     "text": [
      "WARNING:tensorflow:From C:\\Users\\tharu\\Lib\\site-packages\\keras\\src\\losses.py:2976: The name tf.losses.sparse_softmax_cross_entropy is deprecated. Please use tf.compat.v1.losses.sparse_softmax_cross_entropy instead.\n",
      "\n"
     ]
    }
   ],
   "source": [
    "import tensorflow as tf\n",
    "from tensorflow.keras.layers import Conv2D, DepthwiseConv2D, Flatten, MaxPool2D, GlobalAveragePooling2D, BatchNormalization, ReLU, Dense, Input\n",
    "from tensorflow.keras.models import Model\n",
    "import numpy as np\n",
    "from keras.preprocessing.image import ImageDataGenerator"
   ]
  },
  {
   "cell_type": "code",
   "execution_count": 2,
   "id": "e99fbe1f-0195-4fd6-bbde-b4aea62fc119",
   "metadata": {},
   "outputs": [],
   "source": [
    "def train_dg(path):\n",
    "\n",
    "    train = ImageDataGenerator(\n",
    "    shear_range=0.2,\n",
    "    zoom_range=0.2,\n",
    "    vertical_flip=True,\n",
    "    rescale=1./255,\n",
    "    )\n",
    "\n",
    "    train = train.flow_from_directory(\n",
    "    directory=path,\n",
    "    batch_size=32,\n",
    "    target_size=(224, 224),\n",
    "    class_mode=\"categorical\"\n",
    "    )\n",
    "    return train"
   ]
  },
  {
   "cell_type": "code",
   "execution_count": 3,
   "id": "8ff38dbf-bd0f-4933-8ee1-717a7df42606",
   "metadata": {},
   "outputs": [],
   "source": [
    "def val_dg(path):\n",
    "\n",
    "    test = ImageDataGenerator(\n",
    "        rescale=1./255\n",
    "    )\n",
    "\n",
    "    test = test.flow_from_directory(\n",
    "    directory=path,\n",
    "    batch_size=32,\n",
    "    target_size=(224, 224),\n",
    "    class_mode=\"categorical\"\n",
    "    )\n",
    "    return test"
   ]
  },
  {
   "cell_type": "code",
   "execution_count": 4,
   "id": "9f201445-a437-443d-95c3-147c0f2caa3d",
   "metadata": {},
   "outputs": [
    {
     "name": "stdout",
     "output_type": "stream",
     "text": [
      "Found 2942 images belonging to 3 classes.\n"
     ]
    }
   ],
   "source": [
    "train_datagen = train_dg(r\"E:\\archive\\data\\train\")"
   ]
  },
  {
   "cell_type": "code",
   "execution_count": 5,
   "id": "de945059-408e-4f7b-bf7e-3945bb6900b9",
   "metadata": {},
   "outputs": [
    {
     "name": "stdout",
     "output_type": "stream",
     "text": [
      "Found 737 images belonging to 3 classes.\n"
     ]
    }
   ],
   "source": [
    "test_datagen = val_dg(r\"E:\\archive\\data\\val\")"
   ]
  },
  {
   "cell_type": "code",
   "execution_count": 6,
   "id": "726bf014-e79b-428e-a0d0-80fa83686531",
   "metadata": {},
   "outputs": [],
   "source": [
    "def conv(x, filters, kernel_size, strides):\n",
    "    x = Conv2D( filters = filters, kernel_size = kernel_size, strides= strides, padding='same', activation=\"relu\", use_bias=False)(x)\n",
    "    x = BatchNormalization()(x)\n",
    "    x = ReLU()(x)\n",
    "    return x\n",
    "\n",
    "def depv(x, filters, kernel_size, strides):\n",
    "    x = DepthwiseConv2D(kernel_size=kernel_size, strides=strides,  padding='same',use_bias=False)(x)\n",
    "    x = BatchNormalization()(x)\n",
    "    x = ReLU()(x)\n",
    "    x = Conv2D(filters = filters, kernel_size = (1, 1), strides= 1, padding='same', activation=\"relu\", use_bias=False)(x)\n",
    "    x = BatchNormalization()(x)\n",
    "    x = ReLU()(x)\n",
    "    return x"
   ]
  },
  {
   "cell_type": "code",
   "execution_count": 7,
   "id": "4a9a35e6-23f7-401c-b93e-9b92d5257638",
   "metadata": {},
   "outputs": [],
   "source": [
    "def model(x):\n",
    "    x = conv(x, 32, 3, 2)\n",
    "    x = depv(x, 64, 3, 1)\n",
    "    x = depv(x, 128, 3, 2)\n",
    "    x = depv(x, 128, 3, 1)\n",
    "    x = depv(x, 256, 3, 2)\n",
    "    x = depv(x, 256, 3, 1)\n",
    "    x = depv(x, 512, 3, 2)\n",
    "    for i in range(5):\n",
    "        x = depv(x, 512, 3, 1)\n",
    "    x = depv(x, 1024, 3, 2)\n",
    "    x = depv(x, 1024, 3, 2)\n",
    "    # x = Flatten()(x)\n",
    "    x = GlobalAveragePooling2D()(x)\n",
    "    x = Dense(units=1024, activation=\"relu\")(x)\n",
    "    x = Dense(units=3, activation=\"softmax\", use_bias=False)(x)\n",
    "    return x"
   ]
  },
  {
   "cell_type": "code",
   "execution_count": 8,
   "id": "1a9f3f04-007f-483f-9d8a-a747446ed6b1",
   "metadata": {},
   "outputs": [
    {
     "name": "stdout",
     "output_type": "stream",
     "text": [
      "WARNING:tensorflow:From C:\\Users\\tharu\\Lib\\site-packages\\keras\\src\\backend.py:1398: The name tf.executing_eagerly_outside_functions is deprecated. Please use tf.compat.v1.executing_eagerly_outside_functions instead.\n",
      "\n",
      "WARNING:tensorflow:From C:\\Users\\tharu\\Lib\\site-packages\\keras\\src\\layers\\normalization\\batch_normalization.py:979: The name tf.nn.fused_batch_norm is deprecated. Please use tf.compat.v1.nn.fused_batch_norm instead.\n",
      "\n"
     ]
    }
   ],
   "source": [
    "input = Input(shape=(224, 224, 3))\n",
    "output = model(input)\n",
    "cnn = Model(inputs=input, outputs=output)"
   ]
  },
  {
   "cell_type": "code",
   "execution_count": 9,
   "id": "7a5c4571-5289-43ec-b0c8-132f8e56007d",
   "metadata": {
    "scrolled": true
   },
   "outputs": [
    {
     "name": "stdout",
     "output_type": "stream",
     "text": [
      "Model: \"model\"\n",
      "_________________________________________________________________\n",
      " Layer (type)                Output Shape              Param #   \n",
      "=================================================================\n",
      " input_1 (InputLayer)        [(None, 224, 224, 3)]     0         \n",
      "                                                                 \n",
      " conv2d (Conv2D)             (None, 112, 112, 32)      864       \n",
      "                                                                 \n",
      " batch_normalization (Batch  (None, 112, 112, 32)      128       \n",
      " Normalization)                                                  \n",
      "                                                                 \n",
      " re_lu (ReLU)                (None, 112, 112, 32)      0         \n",
      "                                                                 \n",
      " depthwise_conv2d (Depthwis  (None, 112, 112, 32)      288       \n",
      " eConv2D)                                                        \n",
      "                                                                 \n",
      " batch_normalization_1 (Bat  (None, 112, 112, 32)      128       \n",
      " chNormalization)                                                \n",
      "                                                                 \n",
      " re_lu_1 (ReLU)              (None, 112, 112, 32)      0         \n",
      "                                                                 \n",
      " conv2d_1 (Conv2D)           (None, 112, 112, 64)      2048      \n",
      "                                                                 \n",
      " batch_normalization_2 (Bat  (None, 112, 112, 64)      256       \n",
      " chNormalization)                                                \n",
      "                                                                 \n",
      " re_lu_2 (ReLU)              (None, 112, 112, 64)      0         \n",
      "                                                                 \n",
      " depthwise_conv2d_1 (Depthw  (None, 56, 56, 64)        576       \n",
      " iseConv2D)                                                      \n",
      "                                                                 \n",
      " batch_normalization_3 (Bat  (None, 56, 56, 64)        256       \n",
      " chNormalization)                                                \n",
      "                                                                 \n",
      " re_lu_3 (ReLU)              (None, 56, 56, 64)        0         \n",
      "                                                                 \n",
      " conv2d_2 (Conv2D)           (None, 56, 56, 128)       8192      \n",
      "                                                                 \n",
      " batch_normalization_4 (Bat  (None, 56, 56, 128)       512       \n",
      " chNormalization)                                                \n",
      "                                                                 \n",
      " re_lu_4 (ReLU)              (None, 56, 56, 128)       0         \n",
      "                                                                 \n",
      " depthwise_conv2d_2 (Depthw  (None, 56, 56, 128)       1152      \n",
      " iseConv2D)                                                      \n",
      "                                                                 \n",
      " batch_normalization_5 (Bat  (None, 56, 56, 128)       512       \n",
      " chNormalization)                                                \n",
      "                                                                 \n",
      " re_lu_5 (ReLU)              (None, 56, 56, 128)       0         \n",
      "                                                                 \n",
      " conv2d_3 (Conv2D)           (None, 56, 56, 128)       16384     \n",
      "                                                                 \n",
      " batch_normalization_6 (Bat  (None, 56, 56, 128)       512       \n",
      " chNormalization)                                                \n",
      "                                                                 \n",
      " re_lu_6 (ReLU)              (None, 56, 56, 128)       0         \n",
      "                                                                 \n",
      " depthwise_conv2d_3 (Depthw  (None, 28, 28, 128)       1152      \n",
      " iseConv2D)                                                      \n",
      "                                                                 \n",
      " batch_normalization_7 (Bat  (None, 28, 28, 128)       512       \n",
      " chNormalization)                                                \n",
      "                                                                 \n",
      " re_lu_7 (ReLU)              (None, 28, 28, 128)       0         \n",
      "                                                                 \n",
      " conv2d_4 (Conv2D)           (None, 28, 28, 256)       32768     \n",
      "                                                                 \n",
      " batch_normalization_8 (Bat  (None, 28, 28, 256)       1024      \n",
      " chNormalization)                                                \n",
      "                                                                 \n",
      " re_lu_8 (ReLU)              (None, 28, 28, 256)       0         \n",
      "                                                                 \n",
      " depthwise_conv2d_4 (Depthw  (None, 28, 28, 256)       2304      \n",
      " iseConv2D)                                                      \n",
      "                                                                 \n",
      " batch_normalization_9 (Bat  (None, 28, 28, 256)       1024      \n",
      " chNormalization)                                                \n",
      "                                                                 \n",
      " re_lu_9 (ReLU)              (None, 28, 28, 256)       0         \n",
      "                                                                 \n",
      " conv2d_5 (Conv2D)           (None, 28, 28, 256)       65536     \n",
      "                                                                 \n",
      " batch_normalization_10 (Ba  (None, 28, 28, 256)       1024      \n",
      " tchNormalization)                                               \n",
      "                                                                 \n",
      " re_lu_10 (ReLU)             (None, 28, 28, 256)       0         \n",
      "                                                                 \n",
      " depthwise_conv2d_5 (Depthw  (None, 14, 14, 256)       2304      \n",
      " iseConv2D)                                                      \n",
      "                                                                 \n",
      " batch_normalization_11 (Ba  (None, 14, 14, 256)       1024      \n",
      " tchNormalization)                                               \n",
      "                                                                 \n",
      " re_lu_11 (ReLU)             (None, 14, 14, 256)       0         \n",
      "                                                                 \n",
      " conv2d_6 (Conv2D)           (None, 14, 14, 512)       131072    \n",
      "                                                                 \n",
      " batch_normalization_12 (Ba  (None, 14, 14, 512)       2048      \n",
      " tchNormalization)                                               \n",
      "                                                                 \n",
      " re_lu_12 (ReLU)             (None, 14, 14, 512)       0         \n",
      "                                                                 \n",
      " depthwise_conv2d_6 (Depthw  (None, 14, 14, 512)       4608      \n",
      " iseConv2D)                                                      \n",
      "                                                                 \n",
      " batch_normalization_13 (Ba  (None, 14, 14, 512)       2048      \n",
      " tchNormalization)                                               \n",
      "                                                                 \n",
      " re_lu_13 (ReLU)             (None, 14, 14, 512)       0         \n",
      "                                                                 \n",
      " conv2d_7 (Conv2D)           (None, 14, 14, 512)       262144    \n",
      "                                                                 \n",
      " batch_normalization_14 (Ba  (None, 14, 14, 512)       2048      \n",
      " tchNormalization)                                               \n",
      "                                                                 \n",
      " re_lu_14 (ReLU)             (None, 14, 14, 512)       0         \n",
      "                                                                 \n",
      " depthwise_conv2d_7 (Depthw  (None, 14, 14, 512)       4608      \n",
      " iseConv2D)                                                      \n",
      "                                                                 \n",
      " batch_normalization_15 (Ba  (None, 14, 14, 512)       2048      \n",
      " tchNormalization)                                               \n",
      "                                                                 \n",
      " re_lu_15 (ReLU)             (None, 14, 14, 512)       0         \n",
      "                                                                 \n",
      " conv2d_8 (Conv2D)           (None, 14, 14, 512)       262144    \n",
      "                                                                 \n",
      " batch_normalization_16 (Ba  (None, 14, 14, 512)       2048      \n",
      " tchNormalization)                                               \n",
      "                                                                 \n",
      " re_lu_16 (ReLU)             (None, 14, 14, 512)       0         \n",
      "                                                                 \n",
      " depthwise_conv2d_8 (Depthw  (None, 14, 14, 512)       4608      \n",
      " iseConv2D)                                                      \n",
      "                                                                 \n",
      " batch_normalization_17 (Ba  (None, 14, 14, 512)       2048      \n",
      " tchNormalization)                                               \n",
      "                                                                 \n",
      " re_lu_17 (ReLU)             (None, 14, 14, 512)       0         \n",
      "                                                                 \n",
      " conv2d_9 (Conv2D)           (None, 14, 14, 512)       262144    \n",
      "                                                                 \n",
      " batch_normalization_18 (Ba  (None, 14, 14, 512)       2048      \n",
      " tchNormalization)                                               \n",
      "                                                                 \n",
      " re_lu_18 (ReLU)             (None, 14, 14, 512)       0         \n",
      "                                                                 \n",
      " depthwise_conv2d_9 (Depthw  (None, 14, 14, 512)       4608      \n",
      " iseConv2D)                                                      \n",
      "                                                                 \n",
      " batch_normalization_19 (Ba  (None, 14, 14, 512)       2048      \n",
      " tchNormalization)                                               \n",
      "                                                                 \n",
      " re_lu_19 (ReLU)             (None, 14, 14, 512)       0         \n",
      "                                                                 \n",
      " conv2d_10 (Conv2D)          (None, 14, 14, 512)       262144    \n",
      "                                                                 \n",
      " batch_normalization_20 (Ba  (None, 14, 14, 512)       2048      \n",
      " tchNormalization)                                               \n",
      "                                                                 \n",
      " re_lu_20 (ReLU)             (None, 14, 14, 512)       0         \n",
      "                                                                 \n",
      " depthwise_conv2d_10 (Depth  (None, 14, 14, 512)       4608      \n",
      " wiseConv2D)                                                     \n",
      "                                                                 \n",
      " batch_normalization_21 (Ba  (None, 14, 14, 512)       2048      \n",
      " tchNormalization)                                               \n",
      "                                                                 \n",
      " re_lu_21 (ReLU)             (None, 14, 14, 512)       0         \n",
      "                                                                 \n",
      " conv2d_11 (Conv2D)          (None, 14, 14, 512)       262144    \n",
      "                                                                 \n",
      " batch_normalization_22 (Ba  (None, 14, 14, 512)       2048      \n",
      " tchNormalization)                                               \n",
      "                                                                 \n",
      " re_lu_22 (ReLU)             (None, 14, 14, 512)       0         \n",
      "                                                                 \n",
      " depthwise_conv2d_11 (Depth  (None, 7, 7, 512)         4608      \n",
      " wiseConv2D)                                                     \n",
      "                                                                 \n",
      " batch_normalization_23 (Ba  (None, 7, 7, 512)         2048      \n",
      " tchNormalization)                                               \n",
      "                                                                 \n",
      " re_lu_23 (ReLU)             (None, 7, 7, 512)         0         \n",
      "                                                                 \n",
      " conv2d_12 (Conv2D)          (None, 7, 7, 1024)        524288    \n",
      "                                                                 \n",
      " batch_normalization_24 (Ba  (None, 7, 7, 1024)        4096      \n",
      " tchNormalization)                                               \n",
      "                                                                 \n",
      " re_lu_24 (ReLU)             (None, 7, 7, 1024)        0         \n",
      "                                                                 \n",
      " depthwise_conv2d_12 (Depth  (None, 4, 4, 1024)        9216      \n",
      " wiseConv2D)                                                     \n",
      "                                                                 \n",
      " batch_normalization_25 (Ba  (None, 4, 4, 1024)        4096      \n",
      " tchNormalization)                                               \n",
      "                                                                 \n",
      " re_lu_25 (ReLU)             (None, 4, 4, 1024)        0         \n",
      "                                                                 \n",
      " conv2d_13 (Conv2D)          (None, 4, 4, 1024)        1048576   \n",
      "                                                                 \n",
      " batch_normalization_26 (Ba  (None, 4, 4, 1024)        4096      \n",
      " tchNormalization)                                               \n",
      "                                                                 \n",
      " re_lu_26 (ReLU)             (None, 4, 4, 1024)        0         \n",
      "                                                                 \n",
      " global_average_pooling2d (  (None, 1024)              0         \n",
      " GlobalAveragePooling2D)                                         \n",
      "                                                                 \n",
      " dense (Dense)               (None, 1024)              1049600   \n",
      "                                                                 \n",
      " dense_1 (Dense)             (None, 3)                 3072      \n",
      "                                                                 \n",
      "=================================================================\n",
      "Total params: 4281536 (16.33 MB)\n",
      "Trainable params: 4259648 (16.25 MB)\n",
      "Non-trainable params: 21888 (85.50 KB)\n",
      "_________________________________________________________________\n"
     ]
    }
   ],
   "source": [
    "cnn.summary()"
   ]
  },
  {
   "cell_type": "code",
   "execution_count": 10,
   "id": "d82ba04c-e593-4ec5-b2e9-8f3954aa24aa",
   "metadata": {},
   "outputs": [
    {
     "name": "stdout",
     "output_type": "stream",
     "text": [
      "WARNING:tensorflow:From C:\\Users\\tharu\\Lib\\site-packages\\keras\\src\\optimizers\\__init__.py:309: The name tf.train.Optimizer is deprecated. Please use tf.compat.v1.train.Optimizer instead.\n",
      "\n"
     ]
    }
   ],
   "source": [
    "cnn.compile(loss=\"categorical_crossentropy\", optimizer=\"adam\", metrics=[\"accuracy\"])"
   ]
  },
  {
   "cell_type": "code",
   "execution_count": 11,
   "id": "11d9758a-b707-4407-a1c2-61f108bf4a9a",
   "metadata": {},
   "outputs": [],
   "source": [
    "callback = tf.keras.callbacks.EarlyStopping(monitor=\"accuracy\", patience=3)"
   ]
  },
  {
   "cell_type": "code",
   "execution_count": 12,
   "id": "b87b52a9-b977-449b-b7dd-020f75f023df",
   "metadata": {},
   "outputs": [
    {
     "name": "stdout",
     "output_type": "stream",
     "text": [
      "Epoch 1/30\n",
      "WARNING:tensorflow:From C:\\Users\\tharu\\Lib\\site-packages\\keras\\src\\utils\\tf_utils.py:492: The name tf.ragged.RaggedTensorValue is deprecated. Please use tf.compat.v1.ragged.RaggedTensorValue instead.\n",
      "\n",
      "WARNING:tensorflow:From C:\\Users\\tharu\\Lib\\site-packages\\keras\\src\\engine\\base_layer_utils.py:384: The name tf.executing_eagerly_outside_functions is deprecated. Please use tf.compat.v1.executing_eagerly_outside_functions instead.\n",
      "\n",
      "92/92 [==============================] - 250s 3s/step - loss: 0.6431 - accuracy: 0.7175 - val_loss: 1.1008 - val_accuracy: 0.3148\n",
      "Epoch 2/30\n",
      "92/92 [==============================] - 205s 2s/step - loss: 0.4351 - accuracy: 0.8253 - val_loss: 1.0991 - val_accuracy: 0.3148\n",
      "Epoch 3/30\n",
      "92/92 [==============================] - 200s 2s/step - loss: 0.3455 - accuracy: 0.8712 - val_loss: 1.0996 - val_accuracy: 0.3148\n",
      "Epoch 4/30\n",
      "92/92 [==============================] - 230s 3s/step - loss: 0.2671 - accuracy: 0.9062 - val_loss: 1.1715 - val_accuracy: 0.3066\n",
      "Epoch 5/30\n",
      "92/92 [==============================] - 220s 2s/step - loss: 0.2445 - accuracy: 0.9092 - val_loss: 2.1846 - val_accuracy: 0.3066\n",
      "Epoch 6/30\n",
      "92/92 [==============================] - 234s 3s/step - loss: 0.2273 - accuracy: 0.9283 - val_loss: 2.2198 - val_accuracy: 0.3066\n",
      "Epoch 7/30\n",
      "92/92 [==============================] - 256s 3s/step - loss: 0.2053 - accuracy: 0.9290 - val_loss: 0.5183 - val_accuracy: 0.7693\n",
      "Epoch 8/30\n",
      "92/92 [==============================] - 223s 2s/step - loss: 0.1848 - accuracy: 0.9371 - val_loss: 0.4049 - val_accuracy: 0.8616\n",
      "Epoch 9/30\n",
      "92/92 [==============================] - 198s 2s/step - loss: 0.1380 - accuracy: 0.9504 - val_loss: 0.1059 - val_accuracy: 0.9607\n",
      "Epoch 10/30\n",
      "92/92 [==============================] - 180s 2s/step - loss: 0.2681 - accuracy: 0.9167 - val_loss: 341.7425 - val_accuracy: 0.5590\n",
      "Epoch 11/30\n",
      "92/92 [==============================] - 175s 2s/step - loss: 0.1899 - accuracy: 0.9324 - val_loss: 0.3801 - val_accuracy: 0.9199\n",
      "Epoch 12/30\n",
      "92/92 [==============================] - 189s 2s/step - loss: 0.1720 - accuracy: 0.9392 - val_loss: 0.1827 - val_accuracy: 0.9498\n"
     ]
    },
    {
     "data": {
      "text/plain": [
       "<keras.src.callbacks.History at 0x1bbe5e48b50>"
      ]
     },
     "execution_count": 12,
     "metadata": {},
     "output_type": "execute_result"
    }
   ],
   "source": [
    "cnn.fit(x=train_datagen, validation_data=test_datagen, epochs=30, batch_size=32, callbacks=[callback])"
   ]
  },
  {
   "cell_type": "code",
   "execution_count": null,
   "id": "3ce8c21a-3dc1-4901-abd4-f3947547e129",
   "metadata": {},
   "outputs": [],
   "source": []
  }
 ],
 "metadata": {
  "kernelspec": {
   "display_name": "Python 3 (ipykernel)",
   "language": "python",
   "name": "python3"
  },
  "language_info": {
   "codemirror_mode": {
    "name": "ipython",
    "version": 3
   },
   "file_extension": ".py",
   "mimetype": "text/x-python",
   "name": "python",
   "nbconvert_exporter": "python",
   "pygments_lexer": "ipython3",
   "version": "3.11.4"
  }
 },
 "nbformat": 4,
 "nbformat_minor": 5
}
