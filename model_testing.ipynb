{
 "cells": [
  {
   "cell_type": "code",
   "execution_count": 1,
   "id": "3ae7c923-e3d4-4af1-8a03-bbbb0154e350",
   "metadata": {},
   "outputs": [],
   "source": [
    "from joblib import load\n",
    "import pandas as pd\n",
    "import numpy as np\n",
    "import streamlit as st"
   ]
  },
  {
   "cell_type": "code",
   "execution_count": 2,
   "id": "fad73894-5cd2-441d-af3a-4f69a6ed3ac5",
   "metadata": {},
   "outputs": [],
   "source": [
    "model_premium = load(\"svr_premium_model.joblib\")\n",
    "input_sc = load(\"sc_input_premium\")\n",
    "output_sc = load(\"sc_output_premium\")"
   ]
  },
  {
   "cell_type": "code",
   "execution_count": 3,
   "id": "dc584e03-ea67-4064-8c64-a18c155fb7e0",
   "metadata": {},
   "outputs": [
    {
     "name": "stdout",
     "output_type": "stream",
     "text": [
      "[[ 0.95524034  1.22195037 -0.81386216  1.39428701  1.47732437  1.07264244]]\n"
     ]
    }
   ],
   "source": [
    "prediction_data = input_sc.transform([[1230.0, 80.0, 28, 80.0, 24.0, 20.0]])\n",
    "print(prediction_data)"
   ]
  },
  {
   "cell_type": "code",
   "execution_count": 4,
   "id": "a8482ea9-271d-443a-8373-b9fdfda8d6f3",
   "metadata": {},
   "outputs": [
    {
     "data": {
      "text/plain": [
       "array([[11.60207144]])"
      ]
     },
     "execution_count": 4,
     "metadata": {},
     "output_type": "execute_result"
    }
   ],
   "source": [
    "output_sc.inverse_transform([(model_premium.predict(prediction_data))])"
   ]
  },
  {
   "cell_type": "code",
   "execution_count": 6,
   "id": "fac55026-ad2b-4a19-9405-b6355dc90e6e",
   "metadata": {},
   "outputs": [
    {
     "name": "stderr",
     "output_type": "stream",
     "text": [
      "2024-08-26 16:58:59.195 \n",
      "  \u001b[33m\u001b[1mWarning:\u001b[0m to view this Streamlit app on a browser, run it with the following\n",
      "  command:\n",
      "\n",
      "    streamlit run C:\\Users\\tharu\\Lib\\site-packages\\ipykernel_launcher.py [ARGUMENTS]\n"
     ]
    },
    {
     "data": {
      "text/plain": [
       "DeltaGenerator()"
      ]
     },
     "execution_count": 6,
     "metadata": {},
     "output_type": "execute_result"
    }
   ],
   "source": [
    "st.title(\"first try :tree:\")"
   ]
  },
  {
   "cell_type": "code",
   "execution_count": 3,
   "id": "af553a39-ab3b-48b7-b29e-50ffa411088a",
   "metadata": {},
   "outputs": [
    {
     "data": {
      "text/plain": [
       "2"
      ]
     },
     "execution_count": 3,
     "metadata": {},
     "output_type": "execute_result"
    }
   ],
   "source": [
    "x = [[2]]\n",
    "x[0][0]"
   ]
  },
  {
   "cell_type": "code",
   "execution_count": 2,
   "id": "15fc615c-99e6-4883-b5d1-b7f07b67ede2",
   "metadata": {},
   "outputs": [],
   "source": [
    "model_poor = load(\"rfr_user_model.joblib\")\n",
    "input_ct = load(\"ct_output_poor\")\n",
    "output_sc = load(\"sc_input_poor\")"
   ]
  },
  {
   "cell_type": "code",
   "execution_count": 10,
   "id": "974b75ab-e37d-4739-a531-bb2f37845886",
   "metadata": {
    "scrolled": true
   },
   "outputs": [
    {
     "data": {
      "text/plain": [
       "array([0.])"
      ]
     },
     "execution_count": 10,
     "metadata": {},
     "output_type": "execute_result"
    }
   ],
   "source": [
    "data = pd.DataFrame([[1990, 'Chhattisgarh', 'Durg', 397.90]], \n",
    "                    columns=['Year', 'State Name', 'Dist Name', 'RICE AREA (1000 ha)'])\n",
    "data\n",
    "filtered_data = input_ct.transform(data)\n",
    "filtered_data[0][:1]"
   ]
  },
  {
   "cell_type": "code",
   "execution_count": 15,
   "id": "9dd57160-1bf0-4e6d-b139-30b19b103423",
   "metadata": {},
   "outputs": [
    {
     "data": {
      "text/plain": [
       "array([[1207.67]])"
      ]
     },
     "execution_count": 15,
     "metadata": {},
     "output_type": "execute_result"
    }
   ],
   "source": [
    "ans = model_poor.predict(filtered_data)\n",
    "output_sc.inverse_transform([ans])"
   ]
  },
  {
   "cell_type": "code",
   "execution_count": null,
   "id": "984520a2-6c26-4763-9fd4-66fe4b86f9a0",
   "metadata": {},
   "outputs": [],
   "source": []
  }
 ],
 "metadata": {
  "kernelspec": {
   "display_name": "Python 3 (ipykernel)",
   "language": "python",
   "name": "python3"
  },
  "language_info": {
   "codemirror_mode": {
    "name": "ipython",
    "version": 3
   },
   "file_extension": ".py",
   "mimetype": "text/x-python",
   "name": "python",
   "nbconvert_exporter": "python",
   "pygments_lexer": "ipython3",
   "version": "3.11.4"
  }
 },
 "nbformat": 4,
 "nbformat_minor": 5
}
