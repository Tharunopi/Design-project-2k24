{
 "cells": [
  {
   "cell_type": "code",
   "execution_count": 1,
   "id": "3ae7c923-e3d4-4af1-8a03-bbbb0154e350",
   "metadata": {},
   "outputs": [],
   "source": [
    "from joblib import load\n",
    "import pandas as pd\n",
    "import numpy as "
   ]
  },
  {
   "cell_type": "code",
   "execution_count": 5,
   "id": "3d083e8f-795e-41ff-9a37-4d10d34b2d08",
   "metadata": {},
   "outputs": [],
   "source": [
    "premium_model = load(r\"svr_premium_model.joblib\")"
   ]
  },
  {
   "cell_type": "code",
   "execution_count": null,
   "id": "4fc5ba95-08f7-4069-a9d5-ca84310f9a08",
   "metadata": {},
   "outputs": [],
   "source": []
  }
 ],
 "metadata": {
  "kernelspec": {
   "display_name": "Python 3 (ipykernel)",
   "language": "python",
   "name": "python3"
  },
  "language_info": {
   "codemirror_mode": {
    "name": "ipython",
    "version": 3
   },
   "file_extension": ".py",
   "mimetype": "text/x-python",
   "name": "python",
   "nbconvert_exporter": "python",
   "pygments_lexer": "ipython3",
   "version": "3.11.4"
  }
 },
 "nbformat": 4,
 "nbformat_minor": 5
}
