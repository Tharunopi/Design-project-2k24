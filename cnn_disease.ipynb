{
 "cells": [
  {
   "cell_type": "code",
   "execution_count": 1,
   "id": "3da864c0-3773-46ee-b6ff-979c00b3ff77",
   "metadata": {},
   "outputs": [
    {
     "name": "stdout",
     "output_type": "stream",
     "text": [
      "WARNING:tensorflow:From C:\\Users\\tharu\\Lib\\site-packages\\keras\\src\\losses.py:2976: The name tf.losses.sparse_softmax_cross_entropy is deprecated. Please use tf.compat.v1.losses.sparse_softmax_cross_entropy instead.\n",
      "\n"
     ]
    }
   ],
   "source": [
    "import tensorflow as tf\n",
    "from keras.preprocessing.image import ImageDataGenerator\n",
    "import numpy as np\n",
    "from keras.preprocessing import image"
   ]
  },
  {
   "cell_type": "code",
   "execution_count": 2,
   "id": "4d764170-790b-47cc-af9d-6466e80480aa",
   "metadata": {},
   "outputs": [],
   "source": [
    "def train_datagen(dir):\n",
    "    train = ImageDataGenerator(\n",
    "        shear_range=0.2,\n",
    "        zoom_range=0.2,\n",
    "        vertical_flip=True,\n",
    "        rescale=1./255\n",
    "    )\n",
    "\n",
    "    train = train.flow_from_directory(\n",
    "    dir,\n",
    "    target_size=(150, 150),\n",
    "    class_mode='categorical',\n",
    "    batch_size=32\n",
    "    )\n",
    "\n",
    "    return train"
   ]
  },
  {
   "cell_type": "code",
   "execution_count": 3,
   "id": "a5fdf19e-6669-40bb-acb1-d12cc5033f64",
   "metadata": {},
   "outputs": [],
   "source": [
    "def test_datagen(dir):\n",
    "\n",
    "    test = ImageDataGenerator(\n",
    "        rescale=1./255\n",
    "    )\n",
    "\n",
    "    test = test.flow_from_directory(\n",
    "        dir,\n",
    "        target_size=(150, 150),\n",
    "        batch_size=32,\n",
    "        class_mode=\"categorical\"\n",
    "    )"
   ]
  },
  {
   "cell_type": "code",
   "execution_count": 4,
   "id": "34304b94-a2a3-4d53-bcac-2021e563ca6f",
   "metadata": {},
   "outputs": [
    {
     "name": "stdout",
     "output_type": "stream",
     "text": [
      "Found 13104 images belonging to 15 classes.\n"
     ]
    }
   ],
   "source": [
    "tr = train_datagen(r\"E:\\Dataset\\wheat disease\\data\\train\")"
   ]
  },
  {
   "cell_type": "code",
   "execution_count": 5,
   "id": "30a4df18-4eb4-4e9e-a984-57187308e905",
   "metadata": {},
   "outputs": [
    {
     "name": "stdout",
     "output_type": "stream",
     "text": [
      "Found 300 images belonging to 15 classes.\n"
     ]
    }
   ],
   "source": [
    "te = test_datagen(r\"E:\\Dataset\\wheat disease\\data\\valid\")"
   ]
  },
  {
   "cell_type": "code",
   "execution_count": 6,
   "id": "33e898a6-5941-4fa5-a417-f7f79d9cb66e",
   "metadata": {},
   "outputs": [],
   "source": [
    "def model():\n",
    "    cnn = tf.keras.models.Sequential()\n",
    "\n",
    "    #one\n",
    "    cnn.add(tf.keras.layers.Conv2D(\n",
    "    filters = 32,\n",
    "    kernel_size = (3, 3),\n",
    "    strides=(1, 1),\n",
    "    activation=\"relu\",\n",
    "    input_shape = (150, 150, 3)\n",
    "    ))\n",
    "\n",
    "    cnn.add(tf.keras.layers.MaxPool2D(\n",
    "    pool_size=(2, 2),\n",
    "    strides=2\n",
    "    ))\n",
    "\n",
    "\n",
    "    #two\n",
    "    cnn.add(tf.keras.layers.Conv2D(\n",
    "    filters = 32,\n",
    "    kernel_size = (3, 3),\n",
    "    strides=(1, 1),\n",
    "    activation=\"relu\"\n",
    "    ))\n",
    "\n",
    "    cnn.add(tf.keras.layers.MaxPool2D(\n",
    "    pool_size=(2, 2),\n",
    "    strides=2\n",
    "    ))\n",
    "\n",
    "\n",
    "    #three\n",
    "    cnn.add(tf.keras.layers.Conv2D(\n",
    "    filters = 32,\n",
    "    kernel_size = (3, 3),\n",
    "    strides=(1, 1),\n",
    "    activation=\"relu\"\n",
    "    ))\n",
    "\n",
    "    cnn.add(tf.keras.layers.MaxPool2D(\n",
    "    pool_size=(2, 2),\n",
    "    strides=2\n",
    "    ))\n",
    "\n",
    "    cnn.add(tf.keras.layers.Flatten())\n",
    "\n",
    "    cnn.add(tf.keras.layers.Dense(\n",
    "        units = 512,\n",
    "        activation=\"relu\",\n",
    "    ))\n",
    "\n",
    "    cnn.add(tf.keras.layers.Dense(\n",
    "        units=15,\n",
    "        activation=\"softmax\"\n",
    "    ))\n",
    "\n",
    "    cnn.compile(\n",
    "        loss=\"categorical_crossentropy\",\n",
    "        optimizer = \"adam\",\n",
    "        metrics=[\"accuracy\"]\n",
    "    )\n",
    "\n",
    "    return cnn"
   ]
  },
  {
   "cell_type": "code",
   "execution_count": 7,
   "id": "cf523bf1-16d1-4a39-a9ab-e3fc3d3ca916",
   "metadata": {},
   "outputs": [
    {
     "name": "stdout",
     "output_type": "stream",
     "text": [
      "WARNING:tensorflow:From C:\\Users\\tharu\\Lib\\site-packages\\keras\\src\\backend.py:873: The name tf.get_default_graph is deprecated. Please use tf.compat.v1.get_default_graph instead.\n",
      "\n",
      "WARNING:tensorflow:From C:\\Users\\tharu\\Lib\\site-packages\\keras\\src\\layers\\pooling\\max_pooling2d.py:161: The name tf.nn.max_pool is deprecated. Please use tf.nn.max_pool2d instead.\n",
      "\n",
      "WARNING:tensorflow:From C:\\Users\\tharu\\Lib\\site-packages\\keras\\src\\optimizers\\__init__.py:309: The name tf.train.Optimizer is deprecated. Please use tf.compat.v1.train.Optimizer instead.\n",
      "\n"
     ]
    }
   ],
   "source": [
    "cnn = model()"
   ]
  },
  {
   "cell_type": "code",
   "execution_count": 8,
   "id": "7da07563-39d3-46ee-b0ae-b6119e9ae1e7",
   "metadata": {},
   "outputs": [
    {
     "name": "stdout",
     "output_type": "stream",
     "text": [
      "Model: \"sequential\"\n",
      "_________________________________________________________________\n",
      " Layer (type)                Output Shape              Param #   \n",
      "=================================================================\n",
      " conv2d (Conv2D)             (None, 148, 148, 32)      896       \n",
      "                                                                 \n",
      " max_pooling2d (MaxPooling2  (None, 74, 74, 32)        0         \n",
      " D)                                                              \n",
      "                                                                 \n",
      " conv2d_1 (Conv2D)           (None, 72, 72, 32)        9248      \n",
      "                                                                 \n",
      " max_pooling2d_1 (MaxPoolin  (None, 36, 36, 32)        0         \n",
      " g2D)                                                            \n",
      "                                                                 \n",
      " conv2d_2 (Conv2D)           (None, 34, 34, 32)        9248      \n",
      "                                                                 \n",
      " max_pooling2d_2 (MaxPoolin  (None, 17, 17, 32)        0         \n",
      " g2D)                                                            \n",
      "                                                                 \n",
      " flatten (Flatten)           (None, 9248)              0         \n",
      "                                                                 \n",
      " dense (Dense)               (None, 512)               4735488   \n",
      "                                                                 \n",
      " dense_1 (Dense)             (None, 15)                7695      \n",
      "                                                                 \n",
      "=================================================================\n",
      "Total params: 4762575 (18.17 MB)\n",
      "Trainable params: 4762575 (18.17 MB)\n",
      "Non-trainable params: 0 (0.00 Byte)\n",
      "_________________________________________________________________\n"
     ]
    }
   ],
   "source": [
    "cnn.summary()"
   ]
  },
  {
   "cell_type": "code",
   "execution_count": 9,
   "id": "8d870978-5ecb-487f-a5be-c6d8c2d49827",
   "metadata": {},
   "outputs": [
    {
     "name": "stdout",
     "output_type": "stream",
     "text": [
      "Epoch 1/15\n",
      "WARNING:tensorflow:From C:\\Users\\tharu\\Lib\\site-packages\\keras\\src\\utils\\tf_utils.py:492: The name tf.ragged.RaggedTensorValue is deprecated. Please use tf.compat.v1.ragged.RaggedTensorValue instead.\n",
      "\n",
      "WARNING:tensorflow:From C:\\Users\\tharu\\Lib\\site-packages\\keras\\src\\engine\\base_layer_utils.py:384: The name tf.executing_eagerly_outside_functions is deprecated. Please use tf.compat.v1.executing_eagerly_outside_functions instead.\n",
      "\n",
      "410/410 [==============================] - 394s 958ms/step - loss: 2.0540 - accuracy: 0.3574\n",
      "Epoch 2/15\n",
      "410/410 [==============================] - 326s 796ms/step - loss: 1.5647 - accuracy: 0.5011\n",
      "Epoch 3/15\n",
      "410/410 [==============================] - 275s 672ms/step - loss: 1.3455 - accuracy: 0.5669\n",
      "Epoch 4/15\n",
      "410/410 [==============================] - 266s 649ms/step - loss: 1.1866 - accuracy: 0.6150\n",
      "Epoch 5/15\n",
      "410/410 [==============================] - 287s 701ms/step - loss: 1.0570 - accuracy: 0.6552\n",
      "Epoch 6/15\n",
      "410/410 [==============================] - 286s 698ms/step - loss: 0.9296 - accuracy: 0.6998\n",
      "Epoch 7/15\n",
      "410/410 [==============================] - 293s 716ms/step - loss: 0.8425 - accuracy: 0.7244\n",
      "Epoch 8/15\n",
      "410/410 [==============================] - 290s 708ms/step - loss: 0.7260 - accuracy: 0.7616\n",
      "Epoch 9/15\n",
      "410/410 [==============================] - 277s 674ms/step - loss: 0.6596 - accuracy: 0.7808\n",
      "Epoch 10/15\n",
      "410/410 [==============================] - 353s 860ms/step - loss: 0.5945 - accuracy: 0.8036\n",
      "Epoch 11/15\n",
      "410/410 [==============================] - 325s 792ms/step - loss: 0.5477 - accuracy: 0.8206\n",
      "Epoch 12/15\n",
      "410/410 [==============================] - 270s 659ms/step - loss: 0.4825 - accuracy: 0.8403\n",
      "Epoch 13/15\n",
      "410/410 [==============================] - 272s 663ms/step - loss: 0.4509 - accuracy: 0.8532\n",
      "Epoch 14/15\n",
      "410/410 [==============================] - 276s 672ms/step - loss: 0.4238 - accuracy: 0.8590\n",
      "Epoch 15/15\n",
      "410/410 [==============================] - 288s 702ms/step - loss: 0.4049 - accuracy: 0.8654\n"
     ]
    },
    {
     "data": {
      "text/plain": [
       "<keras.src.callbacks.History at 0x17c5201fe10>"
      ]
     },
     "execution_count": 9,
     "metadata": {},
     "output_type": "execute_result"
    }
   ],
   "source": [
    "callback = tf.keras.callbacks.EarlyStopping(\n",
    "    monitor='accuracy',\n",
    "    patience=3)\n",
    "cnn.fit(\n",
    "    x=tr,\n",
    "    batch_size=32,\n",
    "    epochs=15,\n",
    "    callbacks=[callback],\n",
    "    validation_data=te\n",
    ")"
   ]
  },
  {
   "cell_type": "code",
   "execution_count": 10,
   "id": "404f90d7-6f6c-4982-9b95-dff7d3c7b6ec",
   "metadata": {},
   "outputs": [
    {
     "name": "stderr",
     "output_type": "stream",
     "text": [
      "C:\\Users\\tharu\\Lib\\site-packages\\keras\\src\\engine\\training.py:3103: UserWarning: You are saving your model as an HDF5 file via `model.save()`. This file format is considered legacy. We recommend using instead the native Keras format, e.g. `model.save('my_model.keras')`.\n",
      "  saving_api.save_model(\n"
     ]
    }
   ],
   "source": [
    "cnn.save(\"second.h5\")"
   ]
  },
  {
   "cell_type": "code",
   "execution_count": 34,
   "id": "e9256cb6-f813-42d9-9611-faf6d332418c",
   "metadata": {},
   "outputs": [
    {
     "name": "stdout",
     "output_type": "stream",
     "text": [
      "(1, 150, 150, 3)\n",
      "1/1 [==============================] - 0s 29ms/step\n",
      "[[0.000000e+00 0.000000e+00 0.000000e+00 0.000000e+00 0.000000e+00\n",
      "  0.000000e+00 1.000000e+00 0.000000e+00 0.000000e+00 0.000000e+00\n",
      "  0.000000e+00 0.000000e+00 0.000000e+00 0.000000e+00 1.904549e-15]]\n"
     ]
    }
   ],
   "source": [
    "test_image =image.load_img(r\"E:\\Dataset\\wheat disease\\data\\test\\septoria_test\\septoria_14.png\", target_size = (150, 150))\n",
    "test_image = image.img_to_array(test_image)\n",
    "test_image = np.expand_dims(test_image, axis = 0)\n",
    "print(test_image.shape)\n",
    "result = cnn.predict(test_image)\n",
    "print(result)"
   ]
  },
  {
   "cell_type": "code",
   "execution_count": 33,
   "id": "dc51bd5f-f590-4aa7-a21b-02c63f7401a3",
   "metadata": {},
   "outputs": [
    {
     "name": "stdout",
     "output_type": "stream",
     "text": [
      "1.0 14\n",
      "Yellow Rust\n"
     ]
    }
   ],
   "source": [
    "ind = tr.class_indices\n",
    "for i, j in ind.items():\n",
    "    if result[0][j] == 1:\n",
    "        print(result[0][j] , j)\n",
    "        print(i)\n",
    "    "
   ]
  },
  {
   "cell_type": "code",
   "execution_count": 26,
   "id": "41bfd9c1-9167-4d6f-8bb3-0dd83aa45208",
   "metadata": {},
   "outputs": [
    {
     "data": {
      "text/plain": [
       "{'Aphid': 0,\n",
       " 'Black Rust': 1,\n",
       " 'Blast': 2,\n",
       " 'Brown Rust': 3,\n",
       " 'Common Root Rot': 4,\n",
       " 'Fusarium Head Blight': 5,\n",
       " 'Healthy': 6,\n",
       " 'Leaf Blight': 7,\n",
       " 'Mildew': 8,\n",
       " 'Mite': 9,\n",
       " 'Septoria': 10,\n",
       " 'Smut': 11,\n",
       " 'Stem fly': 12,\n",
       " 'Tan spot': 13,\n",
       " 'Yellow Rust': 14}"
      ]
     },
     "execution_count": 26,
     "metadata": {},
     "output_type": "execute_result"
    }
   ],
   "source": [
    "ind"
   ]
  },
  {
   "cell_type": "code",
   "execution_count": null,
   "id": "1d8a2831-b82d-4188-857a-bb8ff3ab0150",
   "metadata": {},
   "outputs": [],
   "source": []
  }
 ],
 "metadata": {
  "kernelspec": {
   "display_name": "Python 3 (ipykernel)",
   "language": "python",
   "name": "python3"
  },
  "language_info": {
   "codemirror_mode": {
    "name": "ipython",
    "version": 3
   },
   "file_extension": ".py",
   "mimetype": "text/x-python",
   "name": "python",
   "nbconvert_exporter": "python",
   "pygments_lexer": "ipython3",
   "version": "3.11.4"
  }
 },
 "nbformat": 4,
 "nbformat_minor": 5
}
