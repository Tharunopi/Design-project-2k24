{
 "cells": [
  {
   "cell_type": "code",
   "execution_count": 25,
   "id": "13f8d99a-d3e7-4cae-82bf-4e96dad447fa",
   "metadata": {},
   "outputs": [],
   "source": [
    "import pandas as pd\n",
    "import tensorflow as tf\n",
    "from sklearn.model_selection import train_test_split\n",
    "import keras_tuner as kt\n",
    "from sklearn.preprocessing import LabelEncoder, OneHotEncoder\n",
    "from sklearn.compose import ColumnTransformer\n",
    "from sklearn.preprocessing import StandardScaler\n",
    "import numpy as np"
   ]
  },
  {
   "cell_type": "code",
   "execution_count": 2,
   "id": "4f0664fd-4d4b-4548-8edb-f42fa09fe2c7",
   "metadata": {},
   "outputs": [
    {
     "data": {
      "text/html": [
       "<div>\n",
       "<style scoped>\n",
       "    .dataframe tbody tr th:only-of-type {\n",
       "        vertical-align: middle;\n",
       "    }\n",
       "\n",
       "    .dataframe tbody tr th {\n",
       "        vertical-align: top;\n",
       "    }\n",
       "\n",
       "    .dataframe thead th {\n",
       "        text-align: right;\n",
       "    }\n",
       "</style>\n",
       "<table border=\"1\" class=\"dataframe\">\n",
       "  <thead>\n",
       "    <tr style=\"text-align: right;\">\n",
       "      <th></th>\n",
       "      <th>Dist Code</th>\n",
       "      <th>Year</th>\n",
       "      <th>State Code</th>\n",
       "      <th>State Name</th>\n",
       "      <th>Dist Name</th>\n",
       "      <th>RICE AREA (1000 ha)</th>\n",
       "      <th>RICE YIELD (Kg per ha)</th>\n",
       "    </tr>\n",
       "  </thead>\n",
       "  <tbody>\n",
       "    <tr>\n",
       "      <th>0</th>\n",
       "      <td>1</td>\n",
       "      <td>1990</td>\n",
       "      <td>14</td>\n",
       "      <td>Chhattisgarh</td>\n",
       "      <td>Durg</td>\n",
       "      <td>397.9</td>\n",
       "      <td>1210.0</td>\n",
       "    </tr>\n",
       "    <tr>\n",
       "      <th>1</th>\n",
       "      <td>1</td>\n",
       "      <td>1991</td>\n",
       "      <td>14</td>\n",
       "      <td>Chhattisgarh</td>\n",
       "      <td>Durg</td>\n",
       "      <td>393.2</td>\n",
       "      <td>1293.0</td>\n",
       "    </tr>\n",
       "    <tr>\n",
       "      <th>2</th>\n",
       "      <td>1</td>\n",
       "      <td>1992</td>\n",
       "      <td>14</td>\n",
       "      <td>Chhattisgarh</td>\n",
       "      <td>Durg</td>\n",
       "      <td>398.4</td>\n",
       "      <td>1291.0</td>\n",
       "    </tr>\n",
       "    <tr>\n",
       "      <th>3</th>\n",
       "      <td>1</td>\n",
       "      <td>1993</td>\n",
       "      <td>14</td>\n",
       "      <td>Chhattisgarh</td>\n",
       "      <td>Durg</td>\n",
       "      <td>410.2</td>\n",
       "      <td>1387.0</td>\n",
       "    </tr>\n",
       "    <tr>\n",
       "      <th>4</th>\n",
       "      <td>1</td>\n",
       "      <td>1994</td>\n",
       "      <td>14</td>\n",
       "      <td>Chhattisgarh</td>\n",
       "      <td>Durg</td>\n",
       "      <td>430.1</td>\n",
       "      <td>1399.0</td>\n",
       "    </tr>\n",
       "  </tbody>\n",
       "</table>\n",
       "</div>"
      ],
      "text/plain": [
       "   Dist Code  Year  State Code    State Name Dist Name  RICE AREA (1000 ha)  \\\n",
       "0          1  1990          14  Chhattisgarh      Durg                397.9   \n",
       "1          1  1991          14  Chhattisgarh      Durg                393.2   \n",
       "2          1  1992          14  Chhattisgarh      Durg                398.4   \n",
       "3          1  1993          14  Chhattisgarh      Durg                410.2   \n",
       "4          1  1994          14  Chhattisgarh      Durg                430.1   \n",
       "\n",
       "   RICE YIELD (Kg per ha)  \n",
       "0                  1210.0  \n",
       "1                  1293.0  \n",
       "2                  1291.0  \n",
       "3                  1387.0  \n",
       "4                  1399.0  "
      ]
     },
     "execution_count": 2,
     "metadata": {},
     "output_type": "execute_result"
    }
   ],
   "source": [
    "df = pd.read_csv(r\"E:\\Dataset\\ICRISAT-District Level Data.csv\")\n",
    "df.head()"
   ]
  },
  {
   "cell_type": "code",
   "execution_count": 3,
   "id": "2d106c5f-dbb7-43d8-9815-c51254a79adc",
   "metadata": {},
   "outputs": [],
   "source": [
    "unwanted = [\"Dist Code\", \"State Code\"]\n",
    "df = df.drop(unwanted, axis=1)"
   ]
  },
  {
   "cell_type": "code",
   "execution_count": 4,
   "id": "b5a94912-5200-4478-8205-d6529501e32c",
   "metadata": {
    "scrolled": true
   },
   "outputs": [
    {
     "data": {
      "text/plain": [
       "array([[1210.  ],\n",
       "       [1293.  ],\n",
       "       [1291.  ],\n",
       "       ...,\n",
       "       [3388.63],\n",
       "       [3338.59],\n",
       "       [2653.18]])"
      ]
     },
     "execution_count": 4,
     "metadata": {},
     "output_type": "execute_result"
    }
   ],
   "source": [
    "X = df.iloc[:, :4].values\n",
    "X\n",
    "y = df.iloc[:, -1].values\n",
    "y.reshape(-1, 1)"
   ]
  },
  {
   "cell_type": "code",
   "execution_count": 5,
   "id": "677035a3-c6d6-4d8e-a1d1-7f38c473f3e1",
   "metadata": {},
   "outputs": [],
   "source": [
    "# le = LabelEncoder()\n",
    "# ct = ColumnTransformer(transformers=[\n",
    "#     (\"encoder\", OneHotEncoder(sparse_output=False), [\"State Name\", \"Dist Name\"]),\n",
    "#     (\"scaler\", StandardScaler(), [\"Year\", \"RICE AREA (1000 ha)\"])\n",
    "#     ], remainder=\"passthrough\")\n",
    "# X = ct.fit_transform(X)"
   ]
  },
  {
   "cell_type": "code",
   "execution_count": 6,
   "id": "a7198dc2-b2d0-41b1-8e16-15efcafcc2d6",
   "metadata": {},
   "outputs": [],
   "source": [
    "# sc = StandardScaler()\n",
    "# y = sc.fit_transform(y.reshape(-1, 1))"
   ]
  },
  {
   "cell_type": "code",
   "execution_count": 14,
   "id": "f3f795d0-bb5d-46dd-ba96-17f5cb916f83",
   "metadata": {},
   "outputs": [
    {
     "data": {
      "text/plain": [
       "array(['Durg', 'Durg', 'Durg', ..., 'Warangal Urban', 'Mahabubabad',\n",
       "       'Mahabubabad'], dtype=object)"
      ]
     },
     "execution_count": 14,
     "metadata": {},
     "output_type": "execute_result"
    }
   ],
   "source": [
    "X[:, 2]"
   ]
  },
  {
   "cell_type": "code",
   "execution_count": 13,
   "id": "3769a63a-1903-4871-9c92-48fa544341d1",
   "metadata": {},
   "outputs": [],
   "source": [
    "le = LabelEncoder()\n",
    "le1 = LabelEncoder()\n",
    "X[:, 1] = le.fit_transform(X[:, 1])"
   ]
  },
  {
   "cell_type": "code",
   "execution_count": 15,
   "id": "7f0695a0-5890-4558-9999-ea616867e014",
   "metadata": {},
   "outputs": [],
   "source": [
    "X[:, 2] = le1.fit_transform(X[:, 2])"
   ]
  },
  {
   "cell_type": "code",
   "execution_count": 16,
   "id": "94519353-d614-4e7c-9977-4ea5d32d2aeb",
   "metadata": {},
   "outputs": [
    {
     "data": {
      "text/plain": [
       "array([1990, 3, 162, 397.9], dtype=object)"
      ]
     },
     "execution_count": 16,
     "metadata": {},
     "output_type": "execute_result"
    }
   ],
   "source": [
    "sc = StandardScaler()\n",
    "X = s"
   ]
  },
  {
   "cell_type": "code",
   "execution_count": 17,
   "id": "05366642-31aa-4b28-9e7d-61326fb617b3",
   "metadata": {},
   "outputs": [],
   "source": [
    "X_train, X_test, y_train, y_test = train_test_split(X, y, test_size=0.2, random_state=42)"
   ]
  },
  {
   "cell_type": "code",
   "execution_count": 42,
   "id": "9073052c-12c1-4747-8ad0-fad3e41fd992",
   "metadata": {},
   "outputs": [
    {
     "data": {
      "text/plain": [
       "array([2016.  ,   15.  ,  426.  ,   69.14], dtype=float32)"
      ]
     },
     "execution_count": 42,
     "metadata": {},
     "output_type": "execute_result"
    }
   ],
   "source": [
    "\n"
   ]
  },
  {
   "cell_type": "code",
   "execution_count": 34,
   "id": "b22de440-3b7f-4908-8591-a9378b8899eb",
   "metadata": {},
   "outputs": [],
   "source": [
    "def model():\n",
    "    ann = tf.keras.models.Sequential()\n",
    "    ann.add(tf.keras.layers.Dense(\n",
    "        units=6,\n",
    "        activation=\"relu\",\n",
    "        input_shape = (4,)\n",
    "    ))\n",
    "    ann.add(tf.keras.layers.Dense(\n",
    "        units=6,\n",
    "        activation=\"relu\"\n",
    "    ))\n",
    "    # ann.add(tf.keras.layers.Dense(\n",
    "    #     units=128,\n",
    "    #     activation=\"relu\"\n",
    "    # ))\n",
    "    ann.add(tf.keras.layers.Dense(\n",
    "        units=1,\n",
    "        activation=\"linear\"\n",
    "    ))\n",
    "    ann.compile(\n",
    "        optimizer=\"rmsprop\",\n",
    "        loss=\"mean_squared_error\",\n",
    "        metrics=[\"accuracy\"]\n",
    "    )\n",
    "\n",
    "    return ann"
   ]
  },
  {
   "cell_type": "code",
   "execution_count": 35,
   "id": "c2b13b94-eeb8-45a0-a8da-1b18e92c17ec",
   "metadata": {},
   "outputs": [],
   "source": [
    "models = model()"
   ]
  },
  {
   "cell_type": "code",
   "execution_count": 36,
   "id": "dd2c3692-63ad-4f3f-9b85-2c4f3f622595",
   "metadata": {},
   "outputs": [
    {
     "name": "stdout",
     "output_type": "stream",
     "text": [
      "Model: \"sequential_2\"\n",
      "_________________________________________________________________\n",
      " Layer (type)                Output Shape              Param #   \n",
      "=================================================================\n",
      " dense_8 (Dense)             (None, 6)                 30        \n",
      "                                                                 \n",
      " dense_9 (Dense)             (None, 6)                 42        \n",
      "                                                                 \n",
      " dense_10 (Dense)            (None, 1)                 7         \n",
      "                                                                 \n",
      "=================================================================\n",
      "Total params: 79 (316.00 Byte)\n",
      "Trainable params: 79 (316.00 Byte)\n",
      "Non-trainable params: 0 (0.00 Byte)\n",
      "_________________________________________________________________\n"
     ]
    }
   ],
   "source": [
    "models.summary()"
   ]
  },
  {
   "cell_type": "code",
   "execution_count": 38,
   "id": "dd20c42a-9a4b-4368-8950-88a8a363bc65",
   "metadata": {},
   "outputs": [],
   "source": [
    "X_train = np.array(X_train).astype('float32')\n",
    "X_test = np.array(X_test).astype('float32')\n",
    "\n",
    "# Convert labels to int32 or float32 (depends on your problem type, e.g., regression or classification)\n",
    "y_train = np.array(y_train).astype('int32')\n",
    "y_test = np.array(y_test).astype('int32')"
   ]
  },
  {
   "cell_type": "code",
   "execution_count": 39,
   "id": "7ed7db7e-6558-4112-a8c9-f1f7b75d53ee",
   "metadata": {},
   "outputs": [
    {
     "name": "stdout",
     "output_type": "stream",
     "text": [
      "Epoch 1/10\n",
      "350/350 [==============================] - 1s 1ms/step - loss: 1195304.1250 - accuracy: 0.0000e+00 - val_loss: 1111685.0000 - val_accuracy: 0.0000e+00\n",
      "Epoch 2/10\n",
      "350/350 [==============================] - 0s 1ms/step - loss: 1099262.5000 - accuracy: 0.0000e+00 - val_loss: 1073164.0000 - val_accuracy: 0.0000e+00\n",
      "Epoch 3/10\n",
      "350/350 [==============================] - 0s 1ms/step - loss: 1078311.7500 - accuracy: 0.0000e+00 - val_loss: 1074360.0000 - val_accuracy: 0.0000e+00\n",
      "Epoch 4/10\n",
      "350/350 [==============================] - 1s 1ms/step - loss: 1073559.2500 - accuracy: 0.0000e+00 - val_loss: 1064099.8750 - val_accuracy: 0.0000e+00\n",
      "Epoch 5/10\n",
      "350/350 [==============================] - 0s 1ms/step - loss: 1072544.2500 - accuracy: 0.0000e+00 - val_loss: 1061246.7500 - val_accuracy: 0.0000e+00\n",
      "Epoch 6/10\n",
      "350/350 [==============================] - 0s 1ms/step - loss: 1071512.6250 - accuracy: 0.0000e+00 - val_loss: 1062054.2500 - val_accuracy: 0.0000e+00\n",
      "Epoch 7/10\n",
      "350/350 [==============================] - 0s 1ms/step - loss: 1069468.6250 - accuracy: 0.0000e+00 - val_loss: 1059630.7500 - val_accuracy: 0.0000e+00\n",
      "Epoch 8/10\n",
      "350/350 [==============================] - 0s 1ms/step - loss: 1067576.8750 - accuracy: 0.0000e+00 - val_loss: 1072068.3750 - val_accuracy: 0.0000e+00\n",
      "Epoch 9/10\n",
      "350/350 [==============================] - 0s 1ms/step - loss: 1066585.3750 - accuracy: 0.0000e+00 - val_loss: 1079258.7500 - val_accuracy: 0.0000e+00\n",
      "Epoch 10/10\n",
      "350/350 [==============================] - 0s 1ms/step - loss: 1064060.7500 - accuracy: 0.0000e+00 - val_loss: 1051964.0000 - val_accuracy: 0.0000e+00\n"
     ]
    },
    {
     "data": {
      "text/plain": [
       "<keras.src.callbacks.History at 0x18818795550>"
      ]
     },
     "execution_count": 39,
     "metadata": {},
     "output_type": "execute_result"
    }
   ],
   "source": [
    "models.fit(X_train, y_train, batch_size=32, epochs=10, validation_data=(X_test, y_test))"
   ]
  },
  {
   "cell_type": "code",
   "execution_count": 40,
   "id": "43a012b7-0701-4052-9aa9-4a76c9b5b765",
   "metadata": {},
   "outputs": [
    {
     "data": {
      "text/html": [
       "<style>#sk-container-id-1 {color: black;}#sk-container-id-1 pre{padding: 0;}#sk-container-id-1 div.sk-toggleable {background-color: white;}#sk-container-id-1 label.sk-toggleable__label {cursor: pointer;display: block;width: 100%;margin-bottom: 0;padding: 0.3em;box-sizing: border-box;text-align: center;}#sk-container-id-1 label.sk-toggleable__label-arrow:before {content: \"▸\";float: left;margin-right: 0.25em;color: #696969;}#sk-container-id-1 label.sk-toggleable__label-arrow:hover:before {color: black;}#sk-container-id-1 div.sk-estimator:hover label.sk-toggleable__label-arrow:before {color: black;}#sk-container-id-1 div.sk-toggleable__content {max-height: 0;max-width: 0;overflow: hidden;text-align: left;background-color: #f0f8ff;}#sk-container-id-1 div.sk-toggleable__content pre {margin: 0.2em;color: black;border-radius: 0.25em;background-color: #f0f8ff;}#sk-container-id-1 input.sk-toggleable__control:checked~div.sk-toggleable__content {max-height: 200px;max-width: 100%;overflow: auto;}#sk-container-id-1 input.sk-toggleable__control:checked~label.sk-toggleable__label-arrow:before {content: \"▾\";}#sk-container-id-1 div.sk-estimator input.sk-toggleable__control:checked~label.sk-toggleable__label {background-color: #d4ebff;}#sk-container-id-1 div.sk-label input.sk-toggleable__control:checked~label.sk-toggleable__label {background-color: #d4ebff;}#sk-container-id-1 input.sk-hidden--visually {border: 0;clip: rect(1px 1px 1px 1px);clip: rect(1px, 1px, 1px, 1px);height: 1px;margin: -1px;overflow: hidden;padding: 0;position: absolute;width: 1px;}#sk-container-id-1 div.sk-estimator {font-family: monospace;background-color: #f0f8ff;border: 1px dotted black;border-radius: 0.25em;box-sizing: border-box;margin-bottom: 0.5em;}#sk-container-id-1 div.sk-estimator:hover {background-color: #d4ebff;}#sk-container-id-1 div.sk-parallel-item::after {content: \"\";width: 100%;border-bottom: 1px solid gray;flex-grow: 1;}#sk-container-id-1 div.sk-label:hover label.sk-toggleable__label {background-color: #d4ebff;}#sk-container-id-1 div.sk-serial::before {content: \"\";position: absolute;border-left: 1px solid gray;box-sizing: border-box;top: 0;bottom: 0;left: 50%;z-index: 0;}#sk-container-id-1 div.sk-serial {display: flex;flex-direction: column;align-items: center;background-color: white;padding-right: 0.2em;padding-left: 0.2em;position: relative;}#sk-container-id-1 div.sk-item {position: relative;z-index: 1;}#sk-container-id-1 div.sk-parallel {display: flex;align-items: stretch;justify-content: center;background-color: white;position: relative;}#sk-container-id-1 div.sk-item::before, #sk-container-id-1 div.sk-parallel-item::before {content: \"\";position: absolute;border-left: 1px solid gray;box-sizing: border-box;top: 0;bottom: 0;left: 50%;z-index: -1;}#sk-container-id-1 div.sk-parallel-item {display: flex;flex-direction: column;z-index: 1;position: relative;background-color: white;}#sk-container-id-1 div.sk-parallel-item:first-child::after {align-self: flex-end;width: 50%;}#sk-container-id-1 div.sk-parallel-item:last-child::after {align-self: flex-start;width: 50%;}#sk-container-id-1 div.sk-parallel-item:only-child::after {width: 0;}#sk-container-id-1 div.sk-dashed-wrapped {border: 1px dashed gray;margin: 0 0.4em 0.5em 0.4em;box-sizing: border-box;padding-bottom: 0.4em;background-color: white;}#sk-container-id-1 div.sk-label label {font-family: monospace;font-weight: bold;display: inline-block;line-height: 1.2em;}#sk-container-id-1 div.sk-label-container {text-align: center;}#sk-container-id-1 div.sk-container {/* jupyter's `normalize.less` sets `[hidden] { display: none; }` but bootstrap.min.css set `[hidden] { display: none !important; }` so we also need the `!important` here to be able to override the default hidden behavior on the sphinx rendered scikit-learn.org. See: https://github.com/scikit-learn/scikit-learn/issues/21755 */display: inline-block !important;position: relative;}#sk-container-id-1 div.sk-text-repr-fallback {display: none;}</style><div id=\"sk-container-id-1\" class=\"sk-top-container\"><div class=\"sk-text-repr-fallback\"><pre>RandomForestClassifier()</pre><b>In a Jupyter environment, please rerun this cell to show the HTML representation or trust the notebook. <br />On GitHub, the HTML representation is unable to render, please try loading this page with nbviewer.org.</b></div><div class=\"sk-container\" hidden><div class=\"sk-item\"><div class=\"sk-estimator sk-toggleable\"><input class=\"sk-toggleable__control sk-hidden--visually\" id=\"sk-estimator-id-1\" type=\"checkbox\" checked><label for=\"sk-estimator-id-1\" class=\"sk-toggleable__label sk-toggleable__label-arrow\">RandomForestClassifier</label><div class=\"sk-toggleable__content\"><pre>RandomForestClassifier()</pre></div></div></div></div></div>"
      ],
      "text/plain": [
       "RandomForestClassifier()"
      ]
     },
     "execution_count": 40,
     "metadata": {},
     "output_type": "execute_result"
    }
   ],
   "source": [
    "from sklearn.ensemble import RandomForestClassifier\n",
    "rc = RandomForestClassifier(n_estimators=100)\n",
    "rc.fit(X_train, y_train)"
   ]
  },
  {
   "cell_type": "code",
   "execution_count": 41,
   "id": "763bafc0-7a1d-405f-8c51-fd0a07d7257a",
   "metadata": {},
   "outputs": [
    {
     "name": "stdout",
     "output_type": "stream",
     "text": [
      "0.0916577157178661\n"
     ]
    }
   ],
   "source": [
    "from sklearn.metrics import accuracy_score\n",
    "y_pred = rc.predict(X_test)\n",
    "print(accuracy_score(y_test, y_pred))"
   ]
  },
  {
   "cell_type": "code",
   "execution_count": null,
   "id": "e148476c-02cc-4c4a-96f9-525c28be8b84",
   "metadata": {},
   "outputs": [],
   "source": [
    "33"
   ]
  }
 ],
 "metadata": {
  "kernelspec": {
   "display_name": "Python 3 (ipykernel)",
   "language": "python",
   "name": "python3"
  },
  "language_info": {
   "codemirror_mode": {
    "name": "ipython",
    "version": 3
   },
   "file_extension": ".py",
   "mimetype": "text/x-python",
   "name": "python",
   "nbconvert_exporter": "python",
   "pygments_lexer": "ipython3",
   "version": "3.11.4"
  }
 },
 "nbformat": 4,
 "nbformat_minor": 5
}
