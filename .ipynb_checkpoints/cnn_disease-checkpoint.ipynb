{
 "cells": [
  {
   "cell_type": "code",
   "execution_count": 2,
   "id": "3da864c0-3773-46ee-b6ff-979c00b3ff77",
   "metadata": {},
   "outputs": [],
   "source": [
    "import tensorflow as tf\n",
    "from keras.preprocessing.image import ImageDataGenerator"
   ]
  },
  {
   "cell_type": "code",
   "execution_count": 4,
   "id": "4d764170-790b-47cc-af9d-6466e80480aa",
   "metadata": {},
   "outputs": [],
   "source": [
    "def train_datagen(dir):\n",
    "    train = ImageDataGenerator(\n",
    "        shear_range=0.2,\n",
    "        zoom_range=0.2,\n",
    "        vertical_flip=True,\n",
    "        rescale=1./255\n",
    "    )\n",
    "\n",
    "    train = train.flow_from_directory(\n",
    "    dir,\n",
    "    target_size=(64, 64),\n",
    "    class_mode='categorical',\n",
    "    batch_size=32\n",
    "    )\n",
    "\n",
    "    return train"
   ]
  },
  {
   "cell_type": "code",
   "execution_count": 5,
   "id": "a5fdf19e-6669-40bb-acb1-d12cc5033f64",
   "metadata": {},
   "outputs": [],
   "source": [
    "def test_datagen(dir):\n",
    "\n",
    "    test = ImageDataGenerator(\n",
    "        rescale=1./255\n",
    "    )\n",
    "\n",
    "    test = test.flow_from_directory(\n",
    "        dir,\n",
    "        target_size=(64, 64),\n",
    "        batch_size=32,\n",
    "        class_mode=\"categorical\"\n",
    "    )"
   ]
  },
  {
   "cell_type": "code",
   "execution_count": 6,
   "id": "34304b94-a2a3-4d53-bcac-2021e563ca6f",
   "metadata": {},
   "outputs": [
    {
     "name": "stdout",
     "output_type": "stream",
     "text": [
      "Found 13104 images belonging to 15 classes.\n"
     ]
    }
   ],
   "source": [
    "tr = train_datagen(r\"E:\\Dataset\\wheat disease\\data\\train\")"
   ]
  },
  {
   "cell_type": "code",
   "execution_count": 7,
   "id": "30a4df18-4eb4-4e9e-a984-57187308e905",
   "metadata": {},
   "outputs": [
    {
     "name": "stdout",
     "output_type": "stream",
     "text": [
      "Found 300 images belonging to 15 classes.\n"
     ]
    }
   ],
   "source": [
    "te = test_datagen(r\"E:\\Dataset\\wheat disease\\data\\valid\")"
   ]
  },
  {
   "cell_type": "code",
   "execution_count": 11,
   "id": "33e898a6-5941-4fa5-a417-f7f79d9cb66e",
   "metadata": {},
   "outputs": [],
   "source": [
    "def model():\n",
    "    cnn = tf.keras.models.Sequential()\n",
    "\n",
    "    #one\n",
    "    cnn.add(tf.keras.layers.Conv2D(\n",
    "    filters = 64,\n",
    "    kernel_size = 3,\n",
    "    strides=(1, 1),\n",
    "    activation=\"relu\",\n",
    "    input_shape = (64, 64, 3)\n",
    "    ))\n",
    "\n",
    "    cnn.add(tf.keras.layers.MaxPool2D(\n",
    "    pool_size=(2, 2),\n",
    "    strides=2\n",
    "    ))\n",
    "\n",
    "    cnn.add(tf.keras.layers.Dropout(\n",
    "        rate=0.2\n",
    "    ))\n",
    "\n",
    "    #two\n",
    "    cnn.add(tf.keras.layers.Conv2D(\n",
    "    filters = 32,\n",
    "    kernel_size = 3,\n",
    "    strides=(1, 1),\n",
    "    activation=\"relu\"\n",
    "    ))\n",
    "\n",
    "    cnn.add(tf.keras.layers.MaxPool2D(\n",
    "    pool_size=(2, 2),\n",
    "    strides=2\n",
    "    ))\n",
    "\n",
    "    cnn.add(tf.keras.layers.Dropout(\n",
    "        rate=0.2\n",
    "    ))\n",
    "\n",
    "    #three\n",
    "    cnn.add(tf.keras.layers.Conv2D(\n",
    "    filters = 12,\n",
    "    kernel_size = 3,\n",
    "    strides=(1, 1),\n",
    "    activation=\"relu\"\n",
    "    ))\n",
    "\n",
    "    cnn.add(tf.keras.layers.MaxPool2D(\n",
    "    pool_size=(2, 2),\n",
    "    strides=2\n",
    "    ))\n",
    "\n",
    "    cnn.add(tf.keras.layers.Dropout(\n",
    "        rate=0.2\n",
    "    ))\n",
    "\n",
    "    cnn.add(tf.keras.layers.Flatten())\n",
    "\n",
    "    cnn.add(tf.keras.layers.Dense(\n",
    "        units = 512,\n",
    "        activation=\"relu\",\n",
    "    ))\n",
    "\n",
    "    cnn.add(tf.keras.layers.Dense(\n",
    "        units=15,\n",
    "        activation=\"softmax\"\n",
    "    ))\n",
    "\n",
    "    cnn.compile(\n",
    "        loss=\"sparse_categorical_crossentropy\",\n",
    "        optimizer = \"adam\",\n",
    "        metrics=[\"accuracy\"]\n",
    "    )\n",
    "\n",
    "    return cnn"
   ]
  },
  {
   "cell_type": "code",
   "execution_count": 12,
   "id": "cf523bf1-16d1-4a39-a9ab-e3fc3d3ca916",
   "metadata": {},
   "outputs": [],
   "source": [
    "cnn = model()"
   ]
  },
  {
   "cell_type": "code",
   "execution_count": 13,
   "id": "7da07563-39d3-46ee-b0ae-b6119e9ae1e7",
   "metadata": {},
   "outputs": [
    {
     "name": "stdout",
     "output_type": "stream",
     "text": [
      "Model: \"sequential_1\"\n",
      "_________________________________________________________________\n",
      " Layer (type)                Output Shape              Param #   \n",
      "=================================================================\n",
      " conv2d_3 (Conv2D)           (None, 62, 62, 64)        1792      \n",
      "                                                                 \n",
      " max_pooling2d_3 (MaxPoolin  (None, 31, 31, 64)        0         \n",
      " g2D)                                                            \n",
      "                                                                 \n",
      " dropout_3 (Dropout)         (None, 31, 31, 64)        0         \n",
      "                                                                 \n",
      " conv2d_4 (Conv2D)           (None, 29, 29, 32)        18464     \n",
      "                                                                 \n",
      " max_pooling2d_4 (MaxPoolin  (None, 14, 14, 32)        0         \n",
      " g2D)                                                            \n",
      "                                                                 \n",
      " dropout_4 (Dropout)         (None, 14, 14, 32)        0         \n",
      "                                                                 \n",
      " conv2d_5 (Conv2D)           (None, 12, 12, 12)        3468      \n",
      "                                                                 \n",
      " max_pooling2d_5 (MaxPoolin  (None, 6, 6, 12)          0         \n",
      " g2D)                                                            \n",
      "                                                                 \n",
      " dropout_5 (Dropout)         (None, 6, 6, 12)          0         \n",
      "                                                                 \n",
      " flatten_1 (Flatten)         (None, 432)               0         \n",
      "                                                                 \n",
      " dense_2 (Dense)             (None, 512)               221696    \n",
      "                                                                 \n",
      " dense_3 (Dense)             (None, 15)                7695      \n",
      "                                                                 \n",
      "=================================================================\n",
      "Total params: 253115 (988.73 KB)\n",
      "Trainable params: 253115 (988.73 KB)\n",
      "Non-trainable params: 0 (0.00 Byte)\n",
      "_________________________________________________________________\n"
     ]
    }
   ],
   "source": [
    "cnn.summary()"
   ]
  },
  {
   "cell_type": "code",
   "execution_count": null,
   "id": "8d870978-5ecb-487f-a5be-c6d8c2d49827",
   "metadata": {},
   "outputs": [],
   "source": [
    "callback = tf.keras.callbacks.EarlyStopping(\n",
    "    monitor='val_loss',\n",
    "    patience=3)\n",
    "cnn.fit(\n",
    "    x=tr,\n",
    "    batch_size=32,\n",
    "    epochs=10,\n",
    "    callbacks=None,\n",
    "    validation_data=te\n",
    ")"
   ]
  }
 ],
 "metadata": {
  "kernelspec": {
   "display_name": "Python 3 (ipykernel)",
   "language": "python",
   "name": "python3"
  },
  "language_info": {
   "codemirror_mode": {
    "name": "ipython",
    "version": 3
   },
   "file_extension": ".py",
   "mimetype": "text/x-python",
   "name": "python",
   "nbconvert_exporter": "python",
   "pygments_lexer": "ipython3",
   "version": "3.11.4"
  }
 },
 "nbformat": 4,
 "nbformat_minor": 5
}
