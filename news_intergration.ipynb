{
 "cells": [
  {
   "cell_type": "code",
   "execution_count": 8,
   "id": "81202719-06ab-4ecb-a065-b88a0f5f40b2",
   "metadata": {},
   "outputs": [
    {
     "data": {
      "text/plain": [
       "{'status': 'ok', 'totalResults': 0, 'articles': []}"
      ]
     },
     "execution_count": 8,
     "metadata": {},
     "output_type": "execute_result"
    }
   ],
   "source": [
    "from newsapi import NewsApiClient\n",
    "\n",
    "\n",
    "newsapi = NewsApiClient(api_key='a2c31137a26e4036919907e9d9710eac')\n",
    "\n",
    "# /v2/top-headlines\n",
    "top_headlines = newsapi.get_top_headlines(\n",
    "    q='bitcoin',\n",
    "    sources='bbc-news,the-verge',\n",
    "    language='en'\n",
    ")\n",
    "\n",
    "\n",
    "\n",
    "top_headlines"
   ]
  },
  {
   "cell_type": "code",
   "execution_count": null,
   "id": "b17f9fca-e812-4148-a843-156ff4848da9",
   "metadata": {},
   "outputs": [],
   "source": []
  }
 ],
 "metadata": {
  "kernelspec": {
   "display_name": "Python 3 (ipykernel)",
   "language": "python",
   "name": "python3"
  },
  "language_info": {
   "codemirror_mode": {
    "name": "ipython",
    "version": 3
   },
   "file_extension": ".py",
   "mimetype": "text/x-python",
   "name": "python",
   "nbconvert_exporter": "python",
   "pygments_lexer": "ipython3",
   "version": "3.11.4"
  }
 },
 "nbformat": 4,
 "nbformat_minor": 5
}
