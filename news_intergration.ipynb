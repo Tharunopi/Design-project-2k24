{
 "cells": [
  {
   "cell_type": "code",
   "execution_count": 8,
   "id": "81202719-06ab-4ecb-a065-b88a0f5f40b2",
   "metadata": {},
   "outputs": [
    {
     "data": {
      "text/plain": [
       "{'status': 'ok', 'totalResults': 0, 'articles': []}"
      ]
     },
     "execution_count": 8,
     "metadata": {},
     "output_type": "execute_result"
    }
   ],
   "source": [
    "from newsapi import NewsApiClient\n",
    "\n",
    "\n",
    "newsapi = NewsApiClient(api_key='a2c31137a26e4036919907e9d9710eac')\n",
    "\n",
    "# /v2/top-headlines\n",
    "top_headlines = newsapi.get_top_headlines(\n",
    "    q='bitcoin',\n",
    "    sources='bbc-news,the-verge',\n",
    "    language='en'\n",
    ")\n",
    "\n",
    "\n",
    "\n",
    "top_headlines"
   ]
  },
  {
   "cell_type": "code",
   "execution_count": 6,
   "id": "b17f9fca-e812-4148-a843-156ff4848da9",
   "metadata": {},
   "outputs": [
    {
     "name": "stdout",
     "output_type": "stream",
     "text": [
      "{'location': {'name': 'Chennai', 'region': 'Tamil Nadu', 'country': 'India', 'lat': 13.08, 'lon': 80.28, 'tz_id': 'Asia/Kolkata', 'localtime_epoch': 1726807311, 'localtime': '2024-09-20 10:11'}, 'current': {'last_updated_epoch': 1726806600, 'last_updated': '2024-09-20 10:00', 'temp_c': 32.4, 'temp_f': 90.3, 'is_day': 1, 'condition': {'text': 'Mist', 'icon': '//cdn.weatherapi.com/weather/64x64/day/143.png', 'code': 1030}, 'wind_mph': 3.8, 'wind_kph': 6.1, 'wind_degree': 265, 'wind_dir': 'W', 'pressure_mb': 1006.0, 'pressure_in': 29.71, 'precip_mm': 0.0, 'precip_in': 0.0, 'humidity': 71, 'cloud': 50, 'feelslike_c': 35.2, 'feelslike_f': 95.3, 'windchill_c': 33.3, 'windchill_f': 91.9, 'heatindex_c': 36.9, 'heatindex_f': 98.4, 'dewpoint_c': 20.8, 'dewpoint_f': 69.4, 'vis_km': 5.0, 'vis_miles': 3.0, 'uv': 8.0, 'gust_mph': 5.1, 'gust_kph': 8.2}}\n"
     ]
    }
   ],
   "source": [
    "import requests\n",
    "\n",
    "API_KEY = 'ba2e7ef8a27142ddb2b43315242009'\n",
    "BASE_URL = 'http://api.weatherapi.com/v1/current.json'\n",
    "\n",
    "def get_weather(city_name):\n",
    "    params = {\n",
    "        'key': API_KEY,\n",
    "        'q': city_name,\n",
    "        'aqi': 'no'  \n",
    "    }\n",
    "    response = requests.get(BASE_URL, params=params)\n",
    "    if response.status_code == 200:\n",
    "        weather_data = response.json()\n",
    "        return weather_data\n",
    "    else:\n",
    "        return f\"Error: {response.status_code}\"\n",
    "\n",
    "city = 'chennai'\n",
    "weather_info = get_weather(city)\n",
    "print(weather_info)\n"
   ]
  },
  {
   "cell_type": "code",
   "execution_count": 16,
   "id": "fb74f0c1-7c8c-49fe-a15a-0168bc66877c",
   "metadata": {},
   "outputs": [
    {
     "data": {
      "text/plain": [
       "{'last_updated_epoch': 1726806600,\n",
       " 'last_updated': '2024-09-20 10:00',\n",
       " 'temp_c': 32.4,\n",
       " 'temp_f': 90.3,\n",
       " 'is_day': 1,\n",
       " 'condition': {'text': 'Mist',\n",
       "  'icon': '//cdn.weatherapi.com/weather/64x64/day/143.png',\n",
       "  'code': 1030},\n",
       " 'wind_mph': 3.8,\n",
       " 'wind_kph': 6.1,\n",
       " 'wind_degree': 265,\n",
       " 'wind_dir': 'W',\n",
       " 'pressure_mb': 1006.0,\n",
       " 'pressure_in': 29.71,\n",
       " 'precip_mm': 0.0,\n",
       " 'precip_in': 0.0,\n",
       " 'humidity': 71,\n",
       " 'cloud': 50,\n",
       " 'feelslike_c': 35.2,\n",
       " 'feelslike_f': 95.3,\n",
       " 'windchill_c': 33.3,\n",
       " 'windchill_f': 91.9,\n",
       " 'heatindex_c': 36.9,\n",
       " 'heatindex_f': 98.4,\n",
       " 'dewpoint_c': 20.8,\n",
       " 'dewpoint_f': 69.4,\n",
       " 'vis_km': 5.0,\n",
       " 'vis_miles': 3.0,\n",
       " 'uv': 8.0,\n",
       " 'gust_mph': 5.1,\n",
       " 'gust_kph': 8.2}"
      ]
     },
     "execution_count": 16,
     "metadata": {},
     "output_type": "execute_result"
    }
   ],
   "source": [
    "weather_info[\"current\"]"
   ]
  },
  {
   "cell_type": "code",
   "execution_count": null,
   "id": "f8a214aa-0ad7-4aee-b2fc-0d6883c5f41a",
   "metadata": {},
   "outputs": [],
   "source": []
  }
 ],
 "metadata": {
  "kernelspec": {
   "display_name": "Python 3 (ipykernel)",
   "language": "python",
   "name": "python3"
  },
  "language_info": {
   "codemirror_mode": {
    "name": "ipython",
    "version": 3
   },
   "file_extension": ".py",
   "mimetype": "text/x-python",
   "name": "python",
   "nbconvert_exporter": "python",
   "pygments_lexer": "ipython3",
   "version": "3.11.4"
  }
 },
 "nbformat": 4,
 "nbformat_minor": 5
}
