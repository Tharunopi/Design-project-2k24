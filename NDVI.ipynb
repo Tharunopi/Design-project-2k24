{
 "cells": [
  {
   "cell_type": "code",
   "execution_count": 8,
   "id": "25ed00be-8814-4514-833c-7f627ee74d05",
   "metadata": {},
   "outputs": [],
   "source": [
    "import numpy as np\n",
    "from PIL import Image\n",
    "import rasterio as rs\n",
    "import matplotlib.pyplot as plt"
   ]
  },
  {
   "cell_type": "code",
   "execution_count": 5,
   "id": "c15d53fe-c27a-474d-bf1f-1b835e8dfdd4",
   "metadata": {},
   "outputs": [],
   "source": [
    "img = Image.open(r\"E:\\Dataset\\wheat disease\\data\\test\\blast_test\\blast_6.png\")\n",
    "img = np.array(img)"
   ]
  },
  {
   "cell_type": "code",
   "execution_count": null,
   "id": "cfd82d35-286e-4722-947a-c7d7c5aaa5fe",
   "metadata": {},
   "outputs": [],
   "source": []
  }
 ],
 "metadata": {
  "kernelspec": {
   "display_name": "Python 3 (ipykernel)",
   "language": "python",
   "name": "python3"
  },
  "language_info": {
   "codemirror_mode": {
    "name": "ipython",
    "version": 3
   },
   "file_extension": ".py",
   "mimetype": "text/x-python",
   "name": "python",
   "nbconvert_exporter": "python",
   "pygments_lexer": "ipython3",
   "version": "3.11.4"
  }
 },
 "nbformat": 4,
 "nbformat_minor": 5
}
